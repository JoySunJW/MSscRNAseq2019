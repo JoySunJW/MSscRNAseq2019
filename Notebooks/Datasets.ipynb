{
 "cells": [
  {
   "cell_type": "markdown",
   "metadata": {},
   "source": [
    "# Load Data"
   ]
  },
  {
   "cell_type": "code",
   "execution_count": 1,
   "metadata": {},
   "outputs": [],
   "source": [
    "import os\n",
    "os.chdir(\"../../scVI/\")\n",
    "os.getcwd()\n",
    "\n",
    "import pickle\n",
    "\n",
    "from scvi.dataset.dataset import GeneExpressionDataset\n",
    "from scvi.dataset.dataset10X import Dataset10X\n",
    "import numpy as np\n",
    "import pandas as pd"
   ]
  },
  {
   "cell_type": "code",
   "execution_count": 2,
   "metadata": {},
   "outputs": [
    {
     "name": "stdout",
     "output_type": "stream",
     "text": [
      "Preprocessing dataset\n",
      "Finished preprocessing dataset\n",
      "Preprocessing dataset\n",
      "Finished preprocessing dataset\n",
      "Preprocessing dataset\n",
      "Finished preprocessing dataset\n",
      "Preprocessing dataset\n",
      "Finished preprocessing dataset\n",
      "Preprocessing dataset\n",
      "Finished preprocessing dataset\n",
      "Preprocessing dataset\n",
      "Finished preprocessing dataset\n",
      "Preprocessing dataset\n",
      "Finished preprocessing dataset\n",
      "Preprocessing dataset\n",
      "Finished preprocessing dataset\n",
      "Preprocessing dataset\n",
      "Finished preprocessing dataset\n",
      "Preprocessing dataset\n",
      "Finished preprocessing dataset\n",
      "Preprocessing dataset\n",
      "Finished preprocessing dataset\n",
      "Keeping 33694 genes\n",
      "Keeping 10266 genes\n"
     ]
    }
   ],
   "source": [
    "CSF = Dataset10X('CSF_data/',save_path='/data/yosef2/users/chenling/CSF',remote=False,genecol=0)\n",
    "\n",
    "celltypes = pd.read_csv('/data/yosef2/users/chenling/CSF/CSF_data/celltypes.txt')\n",
    "donor = np.asarray(celltypes['NA'])\n",
    "celltype = np.asarray(celltypes['clustering'])\n",
    "subtype = np.asarray(celltypes['fineclusters'])\n",
    "\n",
    "CSF.cell_types,CSF.labels = np.unique(celltype,return_inverse=True)\n",
    "CSF.labels = CSF.labels.reshape(len(CSF),1)\n",
    "CSF.batch_names,CSF.batch_indices = np.unique(donor,return_inverse=True)\n",
    "CSF.batch_indices = CSF.batch_indices.reshape(len(CSF.batch_indices),1)\n",
    "CSF.n_batches = len(np.unique(CSF.batch_indices))\n",
    "CSF.n_labels = len(np.unique(CSF.labels))\n",
    "\n",
    "CSF.batch_names\n",
    "\n",
    "patient_id = ['MS19270', 'MS49131','MS71658','MS60249','MS74594', 'PTC32190','PTC41540','PTC85037','PST83775','PST95809']\n",
    "dataset = []\n",
    "celltype='PBMCs'\n",
    "for id in patient_id:\n",
    "    data = Dataset10X('{0}/{1}/GRCh38'.format(id, celltype),\n",
    "                save_path='/data/yosef2/users/chenling/CSF/CSF_data/Gerd/',remote=False,genecol=1)\n",
    "    dataset.append(data)\n",
    "\n",
    "PBMC = GeneExpressionDataset.concat_datasets(*dataset)\n",
    "\n",
    "\n",
    "PBMC.gene_names\n",
    "\n",
    "gene_dataset = GeneExpressionDataset.concat_datasets(CSF,PBMC)"
   ]
  },
  {
   "cell_type": "markdown",
   "metadata": {},
   "source": [
    "# Save Data"
   ]
  },
  {
   "cell_type": "code",
   "execution_count": 4,
   "metadata": {},
   "outputs": [],
   "source": [
    "with open('../CSF/Notebooks/dataset/all_datasets.pkl', 'wb') as f:\n",
    "    pickle.dump(gene_dataset, f)\n"
   ]
  },
  {
   "cell_type": "markdown",
   "metadata": {},
   "source": [
    "# Save data object of just CD4 data"
   ]
  },
  {
   "cell_type": "code",
   "execution_count": 7,
   "metadata": {},
   "outputs": [
    {
     "name": "stdout",
     "output_type": "stream",
     "text": [
      "Downsampling from 65326 to 25105 cells\n"
     ]
    }
   ],
   "source": [
    "celllables = np.load('../CSF/clustering/celllabels.npy')\n",
    "isCD4 = (celllables =='CD4')\n",
    "gene_dataset.update_cells(isCD4)"
   ]
  },
  {
   "cell_type": "code",
   "execution_count": 8,
   "metadata": {},
   "outputs": [],
   "source": [
    "with open('../CSF/Notebooks/dataset/CD4only.pkl', 'wb') as f:\n",
    "    pickle.dump(gene_dataset, f)\n"
   ]
  },
  {
   "cell_type": "markdown",
   "metadata": {},
   "source": [
    "# write to matrix for edgeR"
   ]
  },
  {
   "cell_type": "code",
   "execution_count": 1,
   "metadata": {},
   "outputs": [],
   "source": [
    "import os\n",
    "os.chdir(\"../../scVI/\")\n",
    "os.getcwd()\n",
    "\n",
    "import pickle"
   ]
  },
  {
   "cell_type": "code",
   "execution_count": 2,
   "metadata": {},
   "outputs": [],
   "source": [
    "with open('../CSF/Notebooks/dataset/all_datasets.pkl', 'rb') as f:\n",
    "    gene_dataset = pickle.load(f)\n"
   ]
  },
  {
   "cell_type": "code",
   "execution_count": 3,
   "metadata": {},
   "outputs": [
    {
     "data": {
      "text/plain": [
       "(65326, 10266)"
      ]
     },
     "execution_count": 3,
     "metadata": {},
     "output_type": "execute_result"
    }
   ],
   "source": [
    "gene_dataset.X.shape"
   ]
  },
  {
   "cell_type": "code",
   "execution_count": 5,
   "metadata": {},
   "outputs": [],
   "source": [
    "import numpy as np"
   ]
  },
  {
   "cell_type": "code",
   "execution_count": 6,
   "metadata": {},
   "outputs": [],
   "source": [
    "isCSF = np.load('../CSF/Notebooks/meta/isCSF.npy')"
   ]
  },
  {
   "cell_type": "code",
   "execution_count": 9,
   "metadata": {},
   "outputs": [
    {
     "data": {
      "text/plain": [
       "22357"
      ]
     },
     "execution_count": 9,
     "metadata": {},
     "output_type": "execute_result"
    }
   ],
   "source": [
    "np.sum(isCSF)"
   ]
  },
  {
   "cell_type": "code",
   "execution_count": 10,
   "metadata": {},
   "outputs": [
    {
     "data": {
      "text/plain": [
       "42969"
      ]
     },
     "execution_count": 10,
     "metadata": {},
     "output_type": "execute_result"
    }
   ],
   "source": [
    "np.sum(isCSF==False)"
   ]
  },
  {
   "cell_type": "code",
   "execution_count": 3,
   "metadata": {},
   "outputs": [],
   "source": [
    "from scipy.io import mmwrite\n",
    "mmwrite('../CSF/RFiles/all_data.mtx',gene_dataset.X)"
   ]
  },
  {
   "cell_type": "code",
   "execution_count": 5,
   "metadata": {},
   "outputs": [],
   "source": [
    "from numpy import savetxt\n",
    "savetxt('../CSF/RFiles/genenames.csv', gene_dataset.gene_names,delimiter=',', fmt='%s')"
   ]
  },
  {
   "cell_type": "code",
   "execution_count": 6,
   "metadata": {},
   "outputs": [],
   "source": [
    "savetxt('../CSF/RFiles/batchid.csv', gene_dataset.batch_indices.ravel(),delimiter=',', fmt='%i')"
   ]
  },
  {
   "cell_type": "code",
   "execution_count": 11,
   "metadata": {},
   "outputs": [],
   "source": [
    "import numpy as np\n",
    "tissue=np.concatenate([np.repeat('CSF',8),np.repeat('PBMC',10)])\n",
    "states=np.asarray(['MS','MS','MS','MS','control','control','control','control',\n",
    "                   'MS','MS','MS','MS','MS','control','control','control','control','control'])\n",
    "\n",
    "\n",
    "batchid = gene_dataset.batch_indices.ravel().astype('int')\n",
    "isMS = np.asarray([states[i]=='MS' for i in batchid])\n",
    "isCSF = np.asarray([tissue[i]=='CSF' for i in batchid])\n"
   ]
  },
  {
   "cell_type": "code",
   "execution_count": 15,
   "metadata": {},
   "outputs": [
    {
     "data": {
      "text/plain": [
       "[2413.0, 1038.069602676044]"
      ]
     },
     "execution_count": 15,
     "metadata": {},
     "output_type": "execute_result"
    }
   ],
   "source": [
    "_,ncells= np.unique(batchid,return_counts=True)\n",
    "[np.mean(ncells[(tissue=='CSF') & (states=='MS')]),np.std(ncells[(tissue=='CSF') & (states=='MS')])]"
   ]
  },
  {
   "cell_type": "code",
   "execution_count": 17,
   "metadata": {},
   "outputs": [
    {
     "data": {
      "text/plain": [
       "[3176.25, 2811.307469399247]"
      ]
     },
     "execution_count": 17,
     "metadata": {},
     "output_type": "execute_result"
    }
   ],
   "source": [
    "[np.mean(ncells[(tissue=='CSF') & (states=='control')]),np.std(ncells[(tissue=='CSF') & (states=='control')])]"
   ]
  },
  {
   "cell_type": "code",
   "execution_count": 10,
   "metadata": {},
   "outputs": [],
   "source": [
    "savetxt('../CSF/RFiles/isMS.csv', isMS, delimiter=',', fmt='%s')\n",
    "savetxt('../CSF/RFiles/isCSF.csv', isCSF, delimiter=',', fmt='%s')"
   ]
  },
  {
   "cell_type": "markdown",
   "metadata": {},
   "source": [
    "# write to data for vision"
   ]
  },
  {
   "cell_type": "code",
   "execution_count": 1,
   "metadata": {},
   "outputs": [],
   "source": [
    "import os\n",
    "os.chdir(\"../../scVI/\")\n",
    "os.getcwd()\n",
    "\n",
    "import pickle"
   ]
  },
  {
   "cell_type": "code",
   "execution_count": 2,
   "metadata": {},
   "outputs": [],
   "source": [
    "with open('../CSF/Notebooks/dataset/CD4only.pkl', 'rb') as f:\n",
    "    gene_dataset = pickle.load(f)\n"
   ]
  },
  {
   "cell_type": "code",
   "execution_count": 3,
   "metadata": {},
   "outputs": [],
   "source": [
    "from scipy.io import mmwrite\n",
    "mmwrite('../CSF/RFiles/CD4data.mtx',gene_dataset.X)"
   ]
  },
  {
   "cell_type": "code",
   "execution_count": null,
   "metadata": {},
   "outputs": [],
   "source": []
  }
 ],
 "metadata": {
  "kernelspec": {
   "display_name": "pytorch",
   "language": "python",
   "name": "pytorch"
  },
  "language_info": {
   "codemirror_mode": {
    "name": "ipython",
    "version": 3
   },
   "file_extension": ".py",
   "mimetype": "text/x-python",
   "name": "python",
   "nbconvert_exporter": "python",
   "pygments_lexer": "ipython3",
   "version": "3.7.2"
  }
 },
 "nbformat": 4,
 "nbformat_minor": 2
}
