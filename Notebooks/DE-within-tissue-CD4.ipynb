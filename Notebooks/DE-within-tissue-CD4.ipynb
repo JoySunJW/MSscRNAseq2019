{
 "cells": [
  {
   "cell_type": "code",
   "execution_count": 1,
   "metadata": {},
   "outputs": [],
   "source": [
    "# from utils import * \n",
    "\n",
    "import os\n",
    "os.chdir(\"../../scVI/\")\n",
    "os.getcwd()\n",
    "\n",
    "import pickle\n",
    "import numpy as np\n",
    "import pandas as pd\n",
    "from copy import deepcopy\n",
    "from statsmodels.stats.multitest import multipletests\n",
    "\n",
    "save_path = '../CSF/Notebooks/'"
   ]
  },
  {
   "cell_type": "code",
   "execution_count": 2,
   "metadata": {},
   "outputs": [],
   "source": [
    "celllabels = np.load(save_path + 'meta/CD4.clusters.npy')\n",
    "celltypes, labels = np.unique(celllabels,return_inverse=True)"
   ]
  },
  {
   "cell_type": "code",
   "execution_count": 3,
   "metadata": {},
   "outputs": [
    {
     "data": {
      "text/plain": [
       "array([ 0,  1,  2,  3,  4,  5,  6,  7,  8,  9, 10, 11])"
      ]
     },
     "execution_count": 3,
     "metadata": {},
     "output_type": "execute_result"
    }
   ],
   "source": [
    "celltypes"
   ]
  },
  {
   "cell_type": "code",
   "execution_count": 4,
   "metadata": {},
   "outputs": [],
   "source": [
    "with open(save_path + 'DE/control_tissue.DEres_CD4.pkl', 'rb') as f:\n",
    "    tissueDE,tissueDEclust = pickle.load(f)\n",
    "    \n",
    "genenames = pd.read_csv('../CSF/RFiles/genenames.csv',header=None)\n"
   ]
  },
  {
   "cell_type": "code",
   "execution_count": 5,
   "metadata": {},
   "outputs": [
    {
     "name": "stdout",
     "output_type": "stream",
     "text": [
      "[ 0  1  2  3  4  5  6  7  8  9 10]\n",
      "total 11 cell types\n"
     ]
    }
   ],
   "source": [
    "print(celltypes[tissueDEclust])\n",
    "print(\"total %i cell types\"%len(tissueDE))"
   ]
  },
  {
   "cell_type": "code",
   "execution_count": 6,
   "metadata": {},
   "outputs": [
    {
     "name": "stderr",
     "output_type": "stream",
     "text": [
      "/data/yosef2/users/chenling/miniconda3/envs/pytorch_new/lib/python3.7/site-packages/ipykernel_launcher.py:11: RuntimeWarning: divide by zero encountered in log\n",
      "  # This is added back by InteractiveShellApp.init_path()\n"
     ]
    }
   ],
   "source": [
    "celltype = []\n",
    "combinedDEres = []\n",
    "for i,x in enumerate(celltypes[tissueDEclust]):\n",
    "    temp  = pd.read_csv('../CSF/DE/wilcoxon/MannWhitneyU.CD4.tissue_control.%s.csv'%x)\n",
    "    fdr_wil = multipletests(temp['pvalue'],method='fdr_bh')\n",
    "    temp.index = list(genenames[0])\n",
    "    temp = pd.concat([temp,tissueDE[i]],axis=1,sort=True)\n",
    "    temp = temp.sort_values(by='bayes1',ascending=False)\n",
    "    combined = deepcopy(temp[['stat','pvalue','bayes1','bayes2','mean1','mean2','nonz1','nonz2','clusters']])\n",
    "    combined['scVI_logFC'] = np.log(temp['scale1']/temp['scale2'])\n",
    "    combined['norm_logFC'] = np.log(temp['norm_mean1']/temp['norm_mean2'])\n",
    "    temp  = pd.read_csv('../CSF/EdgeR/CD4.tissue_control.batch_corrected.%s.edgeR.csv'%x)\n",
    "    temp.index = list(genenames[0])\n",
    "    temp = temp[['logFC','logCPM','F','PValue']]\n",
    "    fdr_edgeR = multipletests(temp['PValue'],method='fdr_bh')\n",
    "    combined = pd.concat([combined,temp],axis=1,sort=True)\n",
    "    combined['fdr_wil'] = fdr_wil[1]\n",
    "    combined['fdr_edgeR'] = fdr_edgeR[1]\n",
    "    celltype.append(x)\n",
    "    combinedDEres.append(combined)\n"
   ]
  },
  {
   "cell_type": "code",
   "execution_count": 7,
   "metadata": {},
   "outputs": [],
   "source": [
    "from pandas import ExcelWriter\n",
    "import xlsxwriter\n",
    "\n",
    "\n",
    "writer = pd.ExcelWriter(save_path + 'DE/tissue_control.CD4.xlsx', engine='xlsxwriter')\n",
    "for i, x in enumerate(celltype):\n",
    "    combinedDEres[i].to_excel(writer, sheet_name=str(x))\n",
    "writer.close()\n"
   ]
  },
  {
   "cell_type": "markdown",
   "metadata": {},
   "source": [
    "# VisualizatioN"
   ]
  },
  {
   "cell_type": "code",
   "execution_count": 8,
   "metadata": {},
   "outputs": [
    {
     "data": {
      "text/plain": [
       "[<matplotlib.lines.Line2D at 0x7f7d41ca0470>]"
      ]
     },
     "execution_count": 8,
     "metadata": {},
     "output_type": "execute_result"
    },
    {
     "data": {
      "image/png": "[encoded data removed]",
      "text/plain": [
       "<Figure size 432x288 with 1 Axes>"
      ]
     },
     "metadata": {
      "needs_background": "light"
     },
     "output_type": "display_data"
    }
   ],
   "source": [
    "import matplotlib\n",
    "matplotlib.rcParams['pdf.fonttype'] = 42\n",
    "matplotlib.rcParams['ps.fonttype'] = 42\n",
    "import matplotlib.pyplot as plt\n",
    "\n",
    "\n",
    "%matplotlib inline\n",
    "\n",
    "x = combinedDEres[3]['logFC']\n",
    "y = combinedDEres[3]['scVI_logFC']\n",
    "xrange = np.max(np.abs(x))\n",
    "plt.scatter(x,y,s=.5)\n",
    "cor = np.asarray(pd.concat([x,y],1).corr())[0,1]\n",
    "plt.plot([-3,3],[-3*cor,3*cor],'r-')"
   ]
  },
  {
   "cell_type": "markdown",
   "metadata": {},
   "source": [
    "# GSEA"
   ]
  },
  {
   "cell_type": "code",
   "execution_count": 9,
   "metadata": {},
   "outputs": [],
   "source": [
    "import gseapy as gp\n",
    "gmt = ['c7.all.v6.2.symbols.gmt',\n",
    "       'Hemato.geneset.gmt',\n",
    "       'cell_cycle_Tirosh.gmt',\n",
    "       'chenling.gmt',\n",
    "       'netPath.gmt',\n",
    "       'codeset.gmt',\n",
    "       'signatures_NY_private.gmt']\n",
    "gmt = ['../CSF/signatures/'+x for x in gmt]\n",
    "\n",
    "def DE_GSEA(filtered,gmt,celltypes,filename):\n",
    "    gsea_res = []\n",
    "    for x in filtered:\n",
    "        if len(x)>0:\n",
    "            res1 = gp.enrichr(gene_list=list(x.index),\n",
    "                     gene_sets=['KEGG_2016'],\n",
    "                     cutoff=0.5                    )\n",
    "            res2 = gp.enrichr(gene_list=list(x.index),\n",
    "                             gene_sets=gmt,\n",
    "                             cutoff=0.5,\n",
    "                             background=10266)\n",
    "            res = pd.concat([res1.results,res2.results])\n",
    "            res = res.sort_values(by='P-value')\n",
    "            res['cluster'] = celltypes[list(x['clusters'])[0]]\n",
    "            gsea_res.append(res.loc[res['Adjusted P-value']<0.05])\n",
    "    gsea_res = pd.concat(gsea_res)\n",
    "    gsea_res = gsea_res[['Adjusted P-value','Genes','Term','Overlap','cluster']]\n",
    "    gsea_res.to_csv(filename)\n",
    "    return(gsea_res)\n"
   ]
  },
  {
   "cell_type": "markdown",
   "metadata": {},
   "source": [
    "# upregulated in CSF"
   ]
  },
  {
   "cell_type": "code",
   "execution_count": 10,
   "metadata": {},
   "outputs": [],
   "source": [
    "filtered = [x.loc[(x['fdr_wil']<0.2)&(x['fdr_edgeR']<0.2)& \n",
    "                  (x['bayes1']>0.3) &\n",
    "                  (x['logFC']<0) & (x['norm_logFC']>0)] for x in combinedDEres]\n",
    "\n",
    "DEgenes = pd.concat(filtered)\n",
    "geneid, nocc = np.unique(DEgenes.index,return_counts=True)\n",
    "shared = pd.DataFrame([geneid,nocc],index=['genename','occ']).T\n",
    "shared = shared.sort_values(by='occ',ascending=False)\n",
    "\n",
    "DEgenes['clusters'] = np.asarray(celltypes)[np.asarray(DEgenes['clusters']).astype(int)]\n",
    "DEgenes = DEgenes.sort_index()\n",
    "DEgenes.to_csv(save_path+'DE/CD4.control_tissue.upregulated.relaxed.csv')"
   ]
  },
  {
   "cell_type": "code",
   "execution_count": 11,
   "metadata": {},
   "outputs": [],
   "source": [
    "%%capture\n",
    "gsea_res = DE_GSEA(filtered,gmt,celltypes,save_path+'DE/CD4.control_tissue.upregulated.relaxed.GSEA.csv')"
   ]
  },
  {
   "cell_type": "code",
   "execution_count": 12,
   "metadata": {},
   "outputs": [],
   "source": [
    "filtered = [x.loc[(x['fdr_wil']<0.05)&(x['fdr_edgeR']<0.05)& \n",
    "                  (x['bayes1']>0.5) &\n",
    "                  (x['logFC']<0) & (x['norm_logFC']>0)] for x in combinedDEres]\n",
    "\n",
    "DEgenes = pd.concat(filtered)\n",
    "geneid, nocc = np.unique(DEgenes.index,return_counts=True)\n",
    "shared = pd.DataFrame([geneid,nocc],index=['genename','occ']).T\n",
    "shared = shared.sort_values(by='occ',ascending=False)\n",
    "\n",
    "DEgenes['clusters'] = np.asarray(celltypes)[np.asarray(DEgenes['clusters']).astype(int)]\n",
    "DEgenes = DEgenes.sort_index()\n",
    "DEgenes.to_csv(save_path+'DE/CD4.control_tissue.upregulated.csv')\n"
   ]
  },
  {
   "cell_type": "code",
   "execution_count": 13,
   "metadata": {},
   "outputs": [],
   "source": [
    "%%capture\n",
    "gsea_res = DE_GSEA(filtered,gmt,celltypes,save_path+'DE/CD4.control_tissue.upregulated.GSEA.csv')"
   ]
  },
  {
   "cell_type": "markdown",
   "metadata": {},
   "source": [
    "# downregulated in PBMC"
   ]
  },
  {
   "cell_type": "code",
   "execution_count": 14,
   "metadata": {},
   "outputs": [],
   "source": [
    "\n",
    "filtered = [x.loc[(x['fdr_wil']<0.2)&(x['fdr_edgeR']<0.2)& \n",
    "                  (x['bayes2']>0.3) &\n",
    "                  (x['logFC']>0) & (x['norm_logFC']<0)] for x in combinedDEres]\n",
    "\n",
    "\n",
    "DEgenes = pd.concat(filtered)\n",
    "geneid, nocc = np.unique(DEgenes.index,return_counts=True)\n",
    "shared = pd.DataFrame([geneid,nocc],index=['genename','occ']).T\n",
    "shared = shared.sort_values(by='occ',ascending=False)\n",
    "DEgenes = DEgenes.sort_index()\n",
    "DEgenes['clusters'] = np.asarray(celltypes)[np.asarray(DEgenes['clusters']).astype(int)]\n",
    "\n",
    "DEgenes.to_csv(save_path+'DE/CD4.control_tissue.downregulated.relaxed.csv')"
   ]
  },
  {
   "cell_type": "code",
   "execution_count": 15,
   "metadata": {},
   "outputs": [],
   "source": [
    "%%capture\n",
    "gsea_res = DE_GSEA(filtered,gmt,celltypes,save_path+'DE/CD4.control_tissue.downregulated.relaxed.GSEA.csv')"
   ]
  },
  {
   "cell_type": "code",
   "execution_count": 16,
   "metadata": {},
   "outputs": [],
   "source": [
    "filtered = [x.loc[(x['fdr_wil']<0.05)&(x['fdr_edgeR']<0.05)& \n",
    "                  (x['bayes2']>0.5) &\n",
    "                  (x['logFC']>0) & (x['norm_logFC']<0)] for x in combinedDEres]\n",
    "DEgenes = pd.concat(filtered)\n",
    "geneid, nocc = np.unique(DEgenes.index,return_counts=True)\n",
    "shared = pd.DataFrame([geneid,nocc],index=['genename','occ']).T\n",
    "shared = shared.sort_values(by='occ',ascending=False)\n",
    "DEgenes = DEgenes.sort_index()\n",
    "DEgenes['clusters'] = np.asarray(celltypes)[np.asarray(DEgenes['clusters']).astype(int)]\n",
    "DEgenes.to_csv(save_path+'DE/CD4.control_tissue.downregulated.csv')"
   ]
  },
  {
   "cell_type": "code",
   "execution_count": 17,
   "metadata": {},
   "outputs": [],
   "source": [
    "%%capture\n",
    "gsea_res = DE_GSEA(filtered,gmt,celltypes,save_path+'DE/CD4.control_tissue.downregulated.GSEA.csv')"
   ]
  }
 ],
 "metadata": {
  "kernelspec": {
   "display_name": "pytorch_new",
   "language": "python",
   "name": "pytorch_new"
  },
  "language_info": {
   "codemirror_mode": {
    "name": "ipython",
    "version": 3
   },
   "file_extension": ".py",
   "mimetype": "text/x-python",
   "name": "python",
   "nbconvert_exporter": "python",
   "pygments_lexer": "ipython3",
   "version": "3.7.2"
  }
 },
 "nbformat": 4,
 "nbformat_minor": 2
}
