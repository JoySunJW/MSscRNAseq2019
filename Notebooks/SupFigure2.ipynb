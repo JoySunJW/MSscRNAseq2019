{
 "cells": [
  {
   "cell_type": "code",
   "execution_count": 1,
   "metadata": {},
   "outputs": [],
   "source": [
    "import numpy as np\n",
    "import pandas as pd\n",
    "import matplotlib\n",
    "from numpy import random\n",
    "matplotlib.rcParams['pdf.fonttype'] = 42\n",
    "matplotlib.rcParams['ps.fonttype'] = 42\n",
    "import matplotlib.pyplot as plt\n",
    "\n",
    "import os\n",
    "os.chdir(\"../../scVI/\")\n",
    "os.getcwd()\n",
    "save_path = '../CSF/Notebooks/'"
   ]
  },
  {
   "cell_type": "code",
   "execution_count": 2,
   "metadata": {},
   "outputs": [],
   "source": [
    "%matplotlib inline"
   ]
  },
  {
   "cell_type": "code",
   "execution_count": 3,
   "metadata": {},
   "outputs": [],
   "source": [
    "import pickle"
   ]
  },
  {
   "cell_type": "code",
   "execution_count": 4,
   "metadata": {},
   "outputs": [],
   "source": [
    "with open(save_path + 'posterior/all_datasets.vae.full.pkl', 'rb') as f:\n",
    "    full = pickle.load(f)\n",
    "\n",
    "latent, batch_indices, labels = full.sequential().get_latent()"
   ]
  },
  {
   "cell_type": "code",
   "execution_count": 5,
   "metadata": {},
   "outputs": [],
   "source": [
    "latent_u = np.load(save_path + 'UMAP/all_dataset.umap.npy')\n",
    "celllabels = np.load(save_path + 'meta/celllabels.npy')\n",
    "louvain = np.load(save_path + 'meta/louvain.k30.allgenes.npy')\n",
    "celltype, labels = np.unique(celllabels, return_inverse=True)\n",
    "isMS = np.load(save_path+'meta/isMS.npy')\n",
    "isCSF = np.load(save_path+'meta/isCSF.npy')\n",
    "validclusters = (celllabels!='Mono Doublet') & \\\n",
    "(celllabels!='contamination1') & \\\n",
    "(celllabels!='doublet') & \\\n",
    "(celllabels!='B cell doublets') & \\\n",
    "(celllabels!='RBC')"
   ]
  },
  {
   "cell_type": "code",
   "execution_count": 6,
   "metadata": {},
   "outputs": [
    {
     "data": {
      "text/plain": [
       "21"
      ]
     },
     "execution_count": 6,
     "metadata": {},
     "output_type": "execute_result"
    }
   ],
   "source": [
    "len(np.unique(louvain))"
   ]
  },
  {
   "cell_type": "code",
   "execution_count": 7,
   "metadata": {},
   "outputs": [],
   "source": [
    "colors = ['#ff0000', '#940000', '#c95151', '#5e2626', '#ffe100', '#948a3b', '#165e00', '#63ff33', '#6dc951', '#1e946a', '#66ffc9', '#0077ff', '#002c5e', '#1e5594', '#66adff', '#6a00ff', '#32135e', '#a666ff', '#603b94', '#ff66d1', '#943b79']\n",
    "mean_pos = []\n",
    "for i,x in enumerate(np.unique(louvain)):\n",
    "    idx = (louvain==x)\n",
    "    mean_pos.append([np.median(latent_u[idx,0]),np.median(latent_u[idx,1])])\n"
   ]
  },
  {
   "cell_type": "code",
   "execution_count": 8,
   "metadata": {},
   "outputs": [],
   "source": [
    "fig, ax = plt.subplots(figsize=(10, 10))\n",
    "celltypes = np.asarray(['CD8a','CD4','CD4','CD4','Gran',\n",
    "             'B cells','NK1','Tregs','CD8n','RBC',\n",
    "             'Mono','Tdg','Mono Doublet','mDC','NK2',\n",
    "             'contamination1','pDC','B cell doublets','plasma','MegaK',\n",
    "             'doublet']\n",
    ")\n",
    "for i,x in enumerate(celltypes):\n",
    "    idx = (louvain==i)\n",
    "    ax.scatter(latent_u[idx, 0][0], latent_u[idx, 1][0],label=x,edgecolors='none',c=colors[i],s=5,alpha=0)\n",
    "    ax.text(mean_pos[i][0]+1, mean_pos[i][1], x, fontsize=30,color=colors[i])\n",
    "        \n",
    "plt.axis(\"off\")\n",
    "plt.tight_layout()\n",
    "plt.savefig(save_path+'figures/SupFigure2/level1.labels.pdf')\n"
   ]
  },
  {
   "cell_type": "code",
   "execution_count": 9,
   "metadata": {},
   "outputs": [],
   "source": [
    "\n",
    "fig, ax = plt.subplots(figsize=(10, 10))\n",
    "\n",
    "for i,x in enumerate(celltypes):\n",
    "    idx = (louvain==i)\n",
    "    ax.scatter(latent_u[idx, 0], latent_u[idx, 1],label=x,edgecolors='none',c=colors[i],s=5)\n",
    "#         ax.text(mean_pos[i][0]+1, mean_pos[i][1], x, fontsize=30,color=colors[i])\n",
    "        \n",
    "plt.axis(\"off\")\n",
    "plt.tight_layout()\n",
    "plt.savefig(save_path+'figures/SupFigure2/level1_umap.png',dpi=300)\n"
   ]
  },
  {
   "cell_type": "code",
   "execution_count": 10,
   "metadata": {},
   "outputs": [],
   "source": [
    "from sklearn.cluster import SpectralClustering"
   ]
  },
  {
   "cell_type": "code",
   "execution_count": 11,
   "metadata": {},
   "outputs": [
    {
     "name": "stdout",
     "output_type": "stream",
     "text": [
      "CPU times: user 1min 37s, sys: 224 ms, total: 1min 37s\n",
      "Wall time: 4.9 s\n"
     ]
    }
   ],
   "source": [
    "Bcells = np.unique(louvain)[celltypes=='B cells'][0]\n",
    "\n",
    "clustering = SpectralClustering(n_clusters=2, n_jobs=-1, affinity =\"nearest_neighbors\",n_neighbors=15)\n",
    "%time Bclusters = clustering.fit_predict(latent[louvain==Bcells,:])\n"
   ]
  },
  {
   "cell_type": "code",
   "execution_count": 12,
   "metadata": {},
   "outputs": [],
   "source": [
    "colors = ['#ff0000', '#e30000', '#c70000', '#732b20', '#c7601c', '#ff9924', '#735210', '#ab9f00', '#eeff00', '#2b5724', '#1cc749', '#1cc7a5', '#5fc9e3', '#24b6ff', '#205773', '#3061ab', '#001f73', '#6b7fff', '#601cc7', '#8f3c89', '#ff24d3', '#570023']\n",
    "colors = np.asarray(colors)\n",
    "celllabels = np.load(save_path + 'meta/celllabels.npy')\n",
    "colors = [colors[np.unique(celllabels)=='B2'],colors[np.unique(celllabels)=='B1']]\n",
    "colors = np.concatenate(colors)"
   ]
  },
  {
   "cell_type": "code",
   "execution_count": 13,
   "metadata": {},
   "outputs": [],
   "source": [
    "fig, ax = plt.subplots(figsize=(5, 5))\n",
    "idx = louvain==np.where(celltypes=='B cells')[0][0]\n",
    "for i,x in enumerate(np.unique(Bclusters)):\n",
    "    ax.scatter(latent_u[idx, 0][Bclusters==i], latent_u[idx, 1][Bclusters==i],color=colors[i],s=5)\n",
    "\n",
    "plt.axis(\"off\")\n",
    "plt.xlim(5,11)\n",
    "plt.ylim(-19,-13)\n",
    "plt.tight_layout()\n",
    "plt.savefig(save_path+'figures/SupFigure2/Bcell.png',dpi=300)\n",
    "\n"
   ]
  },
  {
   "cell_type": "code",
   "execution_count": 14,
   "metadata": {},
   "outputs": [],
   "source": [
    "mean_pos = []\n",
    "for i,x in enumerate(np.unique(Bclusters)):\n",
    "    mean_pos.append([np.median(latent_u[idx,0][Bclusters==i]),np.median(latent_u[idx,1][Bclusters==i])])\n",
    "\n",
    "    \n",
    "fig, ax = plt.subplots(figsize=(5, 5))\n",
    "idx = louvain==np.where(celltypes=='B cells')[0][0]\n",
    "for i,x in enumerate(['B2','B1']):\n",
    "    ax.text(mean_pos[i][0]+1, mean_pos[i][1], x, fontsize=30,color=colors[i])\n",
    "\n",
    "plt.axis(\"off\")\n",
    "plt.xlim(5,11)\n",
    "plt.ylim(-19,-13)\n",
    "plt.tight_layout()\n",
    "plt.savefig(save_path+'figures/SupFigure2/Bcell.labels.pdf',dpi=300)\n",
    "\n",
    "\n",
    "            \n"
   ]
  },
  {
   "cell_type": "code",
   "execution_count": 15,
   "metadata": {},
   "outputs": [
    {
     "name": "stdout",
     "output_type": "stream",
     "text": [
      "CPU times: user 14.4 s, sys: 15.7 ms, total: 14.4 s\n",
      "Wall time: 850 ms\n"
     ]
    }
   ],
   "source": [
    "Mono = np.unique(louvain)[celltypes=='Mono'][0]\n",
    "%time Monoclusters = clustering.fit_predict(latent[louvain==Mono,:])"
   ]
  },
  {
   "cell_type": "code",
   "execution_count": 16,
   "metadata": {},
   "outputs": [],
   "source": [
    "colors = ['#ff0000', '#e30000', '#c70000', '#732b20', '#c7601c', '#ff9924', '#735210', '#ab9f00', '#eeff00', '#2b5724', '#1cc749', '#1cc7a5', '#5fc9e3', '#24b6ff', '#205773', '#3061ab', '#001f73', '#6b7fff', '#601cc7', '#8f3c89', '#ff24d3', '#570023']\n",
    "colors = np.asarray(colors)\n",
    "celllabels = np.load(save_path + 'meta/celllabels.npy')\n",
    "colors = [colors[np.unique(celllabels)=='ncMono'],colors[np.unique(celllabels)=='Mono']]\n",
    "colors = np.concatenate(colors)"
   ]
  },
  {
   "cell_type": "code",
   "execution_count": 17,
   "metadata": {},
   "outputs": [],
   "source": [
    "fig, ax = plt.subplots(figsize=(5, 5))\n",
    "idx = louvain==np.where(celltypes=='Mono')[0][0]\n",
    "for i,x in enumerate(np.unique(Monoclusters)):\n",
    "    ax.scatter(latent_u[idx, 0][Monoclusters==i], latent_u[idx, 1][Monoclusters==i],color=colors[i],s=5)\n",
    "\n",
    "plt.axis(\"off\")\n",
    "plt.xlim(-4,10)\n",
    "plt.ylim(9,17)\n",
    "plt.tight_layout()\n",
    "plt.savefig(save_path+'figures/SupFigure2/Mono.png',dpi=300)\n",
    "\n"
   ]
  },
  {
   "cell_type": "code",
   "execution_count": 18,
   "metadata": {},
   "outputs": [],
   "source": [
    "mean_pos = []\n",
    "for i,x in enumerate(np.unique(Monoclusters)):\n",
    "    mean_pos.append([np.median(latent_u[idx,0][Monoclusters==i]),np.median(latent_u[idx,1][Monoclusters==i])])\n",
    "\n",
    "    \n",
    "fig, ax = plt.subplots(figsize=(5, 5))\n",
    "idx = louvain==np.where(celltypes=='Mono')[0][0]\n",
    "for i,x in enumerate(['ncMono','Mono']):\n",
    "    ax.text(mean_pos[i][0]+1, mean_pos[i][1], x, fontsize=30,color=colors[i])\n",
    "\n",
    "plt.axis(\"off\")\n",
    "plt.xlim(-4,10)\n",
    "plt.ylim(9,17)\n",
    "plt.tight_layout()\n",
    "plt.savefig(save_path+'figures/SupFigure2/Mono.labels.pdf',dpi=300)\n",
    "\n",
    "\n",
    "            \n"
   ]
  },
  {
   "cell_type": "code",
   "execution_count": 19,
   "metadata": {},
   "outputs": [
    {
     "name": "stdout",
     "output_type": "stream",
     "text": [
      "CPU times: user 2.56 s, sys: 12.7 ms, total: 2.57 s\n",
      "Wall time: 311 ms\n"
     ]
    }
   ],
   "source": [
    "mDC = np.unique(louvain)[celltypes=='mDC'][0]\n",
    "%time mDCclusters = clustering.fit_predict(latent[louvain==mDC,:])"
   ]
  },
  {
   "cell_type": "code",
   "execution_count": 20,
   "metadata": {},
   "outputs": [],
   "source": [
    "colors = ['#ff0000', '#e30000', '#c70000', '#732b20', '#c7601c', '#ff9924', '#735210', '#ab9f00', '#eeff00', '#2b5724', '#1cc749', '#1cc7a5', '#5fc9e3', '#24b6ff', '#205773', '#3061ab', '#001f73', '#6b7fff', '#601cc7', '#8f3c89', '#ff24d3', '#570023']\n",
    "colors = np.asarray(colors)\n",
    "celllabels = np.load(save_path + 'meta/celllabels.npy')\n",
    "colors = [colors[np.unique(celllabels)=='mDC2'],colors[np.unique(celllabels)=='mDC1']]\n",
    "colors = np.concatenate(colors)\n",
    "\n",
    "fig, ax = plt.subplots(figsize=(5, 5))\n",
    "idx = louvain==np.where(celltypes=='mDC')[0][0]\n",
    "for i,x in enumerate(np.unique(mDCclusters)):\n",
    "    ax.scatter(latent_u[idx, 0][mDCclusters==i], latent_u[idx, 1][mDCclusters==i],color=colors[i],s=5)\n",
    "\n",
    "plt.axis(\"off\")\n",
    "plt.ylim(13,17)\n",
    "plt.tight_layout()\n",
    "plt.savefig(save_path+'figures/SupFigure2/mDC.png',dpi=300)\n",
    "\n"
   ]
  },
  {
   "cell_type": "code",
   "execution_count": 21,
   "metadata": {},
   "outputs": [],
   "source": [
    "mean_pos = []\n",
    "for i,x in enumerate(np.unique(mDCclusters)):\n",
    "    mean_pos.append([np.median(latent_u[idx,0][mDCclusters==i]),np.median(latent_u[idx,1][mDCclusters==i])])\n",
    "\n",
    "    \n",
    "fig, ax = plt.subplots(figsize=(5, 5))\n",
    "idx = louvain==np.where(celltypes=='mDC')[0][0]\n",
    "for i,x in enumerate(['mDC2','mDC1']):\n",
    "    ax.text(mean_pos[i][0]+1, mean_pos[i][1], x, fontsize=30,color=colors[i])\n",
    "\n",
    "plt.axis(\"off\")\n",
    "plt.xlim(-4,10)\n",
    "plt.ylim(9,17)\n",
    "plt.tight_layout()\n",
    "plt.savefig(save_path+'figures/SupFigure2/mDC.labels.pdf',dpi=300)"
   ]
  },
  {
   "cell_type": "code",
   "execution_count": 22,
   "metadata": {},
   "outputs": [],
   "source": [
    "genelist = ['CD3E', 'TRAC', 'IL7R', 'CD8B', 'CCR7', 'FOXP3', 'TRDC', 'GNLY', 'FCGR3A', 'SELL', 'CD79A',\n",
    "            'IGHD', 'CD27', 'CD38', 'LYZ', 'WDFY4', 'FCER1A', 'S100A8', 'CD14', 'TCF4', 'GNG11']"
   ]
  },
  {
   "cell_type": "code",
   "execution_count": 23,
   "metadata": {},
   "outputs": [],
   "source": [
    "gene_dataset = full.gene_dataset\n",
    "logX = np.log10(1+gene_dataset.X.todense())\n",
    "scaling_factor = logX.mean(axis=1)\n",
    "norm_X = logX - scaling_factor.reshape(len(scaling_factor), 1)"
   ]
  },
  {
   "cell_type": "code",
   "execution_count": 24,
   "metadata": {},
   "outputs": [],
   "source": [
    "genenames = gene_dataset.gene_names"
   ]
  },
  {
   "cell_type": "code",
   "execution_count": 25,
   "metadata": {},
   "outputs": [],
   "source": [
    "exprs = [norm_X[:,genenames==x] for x in genelist]\n",
    "exprs = np.asarray(exprs).squeeze()\n",
    "exprs = pd.DataFrame(exprs.T, columns=genelist)"
   ]
  },
  {
   "cell_type": "code",
   "execution_count": 26,
   "metadata": {},
   "outputs": [
    {
     "data": {
      "text/plain": [
       "(65326, 21)"
      ]
     },
     "execution_count": 26,
     "metadata": {},
     "output_type": "execute_result"
    }
   ],
   "source": [
    "exprs.shape"
   ]
  },
  {
   "cell_type": "code",
   "execution_count": 27,
   "metadata": {},
   "outputs": [],
   "source": [
    "validclusters = (celllabels!='Mono Doublet') & \\\n",
    "(celllabels!='contamination1') & \\\n",
    "(celllabels!='doublet') & \\\n",
    "(celllabels!='B cell doublets') & \\\n",
    "(celllabels!='RBC')\n",
    "order = np.where(validclusters)[0]\n",
    "random.shuffle(order)"
   ]
  },
  {
   "cell_type": "code",
   "execution_count": 28,
   "metadata": {},
   "outputs": [],
   "source": [
    "fig, ax = plt.subplots(figsize=(20, 20))\n",
    "for i,x in enumerate(genelist[:20]):\n",
    "    ax = plt.subplot(4,5,i+1)\n",
    "    ax.scatter(latent_u[order, 0], latent_u[order, 1],c=np.log(1+np.asarray(exprs[x])[order]),\n",
    "                cmap='RdYlBu_r',edgecolors='none',s=1)\n",
    "    plt.title(x,color='w',fontsize=30)\n",
    "    plt.xlim(-12,18)\n",
    "    ax.yaxis.set_major_locator(plt.NullLocator())\n",
    "    ax.xaxis.set_major_locator(plt.NullLocator())\n",
    "    plt.tight_layout()\n",
    "\n",
    "plt.savefig(save_path + 'figures/SupFigure2/featureplot.png',dpi=300)"
   ]
  },
  {
   "cell_type": "code",
   "execution_count": 30,
   "metadata": {},
   "outputs": [],
   "source": [
    "fig, ax = plt.subplots(figsize=(20, 20))\n",
    "for i,x in enumerate(genelist[:20]):\n",
    "    ax= plt.subplot(4,5,i+1)\n",
    "    ax.scatter(0, 0,c='white')\n",
    "    plt.title(x,fontsize=30)\n",
    "    ax.yaxis.set_major_locator(plt.NullLocator())\n",
    "    ax.xaxis.set_major_locator(plt.NullLocator())\n",
    "    plt.tight_layout()\n",
    "\n",
    "plt.savefig(save_path + 'figures/SupFigure2/featureplot.title.pdf')"
   ]
  },
  {
   "cell_type": "code",
   "execution_count": null,
   "metadata": {},
   "outputs": [],
   "source": []
  }
 ],
 "metadata": {
  "kernelspec": {
   "display_name": "pytorch",
   "language": "python",
   "name": "pytorch"
  },
  "language_info": {
   "codemirror_mode": {
    "name": "ipython",
    "version": 3
   },
   "file_extension": ".py",
   "mimetype": "text/x-python",
   "name": "python",
   "nbconvert_exporter": "python",
   "pygments_lexer": "ipython3",
   "version": "3.7.2"
  }
 },
 "nbformat": 4,
 "nbformat_minor": 2
}
