{
 "cells": [
  {
   "cell_type": "code",
   "execution_count": 1,
   "metadata": {},
   "outputs": [],
   "source": [
    "import os\n",
    "os.chdir(\"../../scVI/\")\n",
    "os.getcwd()\n",
    "save_path = '../CSF/Notebooks/'\n",
    "\n",
    "import numpy as np\n",
    "import pickle\n",
    "import pandas as pd\n",
    "from copy import deepcopy"
   ]
  },
  {
   "cell_type": "code",
   "execution_count": 2,
   "metadata": {},
   "outputs": [],
   "source": [
    "save_path = '../CSF/Notebooks/'\n",
    "with open(save_path + 'dataset/all_datasets.pkl', 'rb') as f:\n",
    "    gene_dataset = pickle.load(f)"
   ]
  },
  {
   "cell_type": "code",
   "execution_count": 3,
   "metadata": {},
   "outputs": [],
   "source": [
    "latent_u = np.load(save_path + 'UMAP/all_dataset.umap.npy')\n",
    "celllabels = np.load(save_path + 'meta/celllabels.npy')\n",
    "celltype, labels = np.unique(celllabels, return_inverse=True)\n",
    "isMS = np.load(save_path+'meta/isMS.npy')\n",
    "isCSF = np.load(save_path+'meta/isCSF.npy')\n",
    "validclusters = (celllabels!='Mono Doublet') & \\\n",
    "(celllabels!='contamination1') & \\\n",
    "(celllabels!='doublet') & \\\n",
    "(celllabels!='B cell doublets') & \\\n",
    "(celllabels!='RBC')\n",
    "isCD4 = (celllabels=='CD4')"
   ]
  },
  {
   "cell_type": "code",
   "execution_count": 4,
   "metadata": {},
   "outputs": [],
   "source": [
    "batchid = np.load(save_path + 'meta/batchid.npy')"
   ]
  },
  {
   "cell_type": "code",
   "execution_count": 13,
   "metadata": {},
   "outputs": [],
   "source": [
    "expressed = (gene_dataset.X>0)\n",
    "nexp = expressed.sum(axis=1)\n",
    "nexp = np.asarray(nexp).ravel()"
   ]
  },
  {
   "cell_type": "code",
   "execution_count": 23,
   "metadata": {},
   "outputs": [],
   "source": [
    "exprs = gene_dataset.X.sum(axis=1)\n",
    "exprs = np.asarray(exprs).ravel()"
   ]
  },
  {
   "cell_type": "code",
   "execution_count": 24,
   "metadata": {},
   "outputs": [
    {
     "name": "stdout",
     "output_type": "stream",
     "text": [
      "MS: False ;  CSF: True has 12705 cells\n",
      "number of cells per donor 3176.25 ± 2811.31\n",
      "number of reads per cell 3774.80 ± 1958.80\n",
      "number of genes per cell 1026.11 ± 374.84\n",
      "\n",
      "\n",
      "MS: True ;  CSF: True has 9652 cells\n",
      "number of cells per donor 2413.00 ± 1038.07\n",
      "number of reads per cell 3367.58 ± 2241.05\n",
      "number of genes per cell 1015.09 ± 372.81\n",
      "\n",
      "\n",
      "MS: False ;  CSF: False has 17138 cells\n",
      "number of cells per donor 3427.60 ± 1476.88\n",
      "number of reads per cell 3376.29 ± 1685.92\n",
      "number of genes per cell 808.76 ± 389.29\n",
      "\n",
      "\n",
      "MS: True ;  CSF: False has 25831 cells\n",
      "number of cells per donor 5166.20 ± 1701.32\n",
      "number of reads per cell 3438.51 ± 1811.71\n",
      "number of genes per cell 1017.73 ± 347.97\n",
      "\n",
      "\n"
     ]
    }
   ],
   "source": [
    "for bool1 in [True,False]:\n",
    "    for bool2 in [False,True]:\n",
    "        _, counts = np.unique(batchid[(isMS==bool2) & (isCSF==bool1)],return_counts=True)\n",
    "        print(\"MS: %s ;  CSF: %s has %i cells\"%(bool2, bool1, np.sum((isMS==bool2) & (isCSF==bool1))))\n",
    "        print(\"number of cells per donor %.2f ± %.2f\"%(np.mean(counts),np.std(counts)))\n",
    "        ngenes = nexp[(isMS==bool2) & (isCSF==bool1)]\n",
    "        exp = exprs[(isMS==bool2) & (isCSF==bool1)]\n",
    "        print(\"number of reads per cell %.2f ± %.2f\"%(np.mean(exp),np.std(exp)))\n",
    "        print(\"number of genes per cell %.2f ± %.2f\"%(np.mean(ngenes),np.std(ngenes)))\n",
    "        print('\\n')\n",
    "        "
   ]
  }
 ],
 "metadata": {
  "kernelspec": {
   "display_name": "pytorch",
   "language": "python",
   "name": "pytorch"
  },
  "language_info": {
   "codemirror_mode": {
    "name": "ipython",
    "version": 3
   },
   "file_extension": ".py",
   "mimetype": "text/x-python",
   "name": "python",
   "nbconvert_exporter": "python",
   "pygments_lexer": "ipython3",
   "version": "3.7.2"
  }
 },
 "nbformat": 4,
 "nbformat_minor": 2
}
