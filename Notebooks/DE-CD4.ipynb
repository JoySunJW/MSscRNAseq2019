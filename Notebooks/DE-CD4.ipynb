{
 "cells": [
  {
   "cell_type": "code",
   "execution_count": 1,
   "metadata": {},
   "outputs": [],
   "source": [
    "# from utils import * \n",
    "\n",
    "import os\n",
    "os.chdir(\"../../scVI/\")\n",
    "os.getcwd()\n",
    "\n",
    "import pickle\n",
    "import numpy as np\n",
    "import pandas as pd\n",
    "# import gseapy as gp\n",
    "from copy import deepcopy \n",
    "save_path = '../CSF/Notebooks/'"
   ]
  },
  {
   "cell_type": "code",
   "execution_count": 2,
   "metadata": {},
   "outputs": [],
   "source": [
    "labels = np.load(save_path + 'meta/CD4.clusters.npy')\n",
    "celltypes = np.unique(labels).astype(str)"
   ]
  },
  {
   "cell_type": "code",
   "execution_count": 3,
   "metadata": {},
   "outputs": [
    {
     "data": {
      "text/plain": [
       "array(['0', '1', '2', '3', '4', '5', '6', '7', '8', '9', '10', '11'],\n",
       "      dtype='<U21')"
      ]
     },
     "execution_count": 3,
     "metadata": {},
     "output_type": "execute_result"
    }
   ],
   "source": [
    "celltypes"
   ]
  },
  {
   "cell_type": "code",
   "execution_count": 4,
   "metadata": {},
   "outputs": [],
   "source": [
    "celllabels = np.load(save_path + 'meta/celllabels.npy')\n",
    "isCD4only = celllabels=='CD4'"
   ]
  },
  {
   "cell_type": "code",
   "execution_count": 5,
   "metadata": {},
   "outputs": [],
   "source": [
    "# from numpy import savetxt\n",
    "# savetxt('../CSF/DE/raw/CD4labels.csv', labels, delimiter=',',fmt='%i')"
   ]
  },
  {
   "cell_type": "code",
   "execution_count": 6,
   "metadata": {},
   "outputs": [],
   "source": [
    "# with open(save_path + 'posterior/CD4only.vae.full.pkl', 'rb') as f:\n",
    "#     full = pickle.load(f)\n",
    "\n",
    "# with open(save_path + 'posterior/all_datasets.vae.full.pkl', 'rb') as f:\n",
    "#     full = pickle.load(f)\n"
   ]
  },
  {
   "cell_type": "code",
   "execution_count": 7,
   "metadata": {},
   "outputs": [],
   "source": [
    "temp = np.repeat(-1,len(celllabels))\n",
    "temp[isCD4only] = labels\n",
    "# DEres, DEclust = full.one_vs_all_degenes(cell_labels=labels, output_file=False,save_dir=save_path, filename='LouvainClusters')\n",
    "# DEres, DEclust = full.one_vs_all_degenes(cell_labels=temp, output_file=False,\n",
    "#                                          save_dir=save_path, filename='CD4.clusters',\n",
    "#                                         subset=isCD4)\n"
   ]
  },
  {
   "cell_type": "code",
   "execution_count": 8,
   "metadata": {},
   "outputs": [],
   "source": [
    "# with open(save_path + 'DE/CD4only.DEres.pkl', 'wb') as f:\n",
    "#     pickle.dump((DEres,DEclust),f)"
   ]
  },
  {
   "cell_type": "code",
   "execution_count": 9,
   "metadata": {},
   "outputs": [],
   "source": [
    "with open(save_path + 'DE/CD4.DEres.pkl', 'rb') as f:\n",
    "    DEres,DEclust = pickle.load(f)\n",
    "    \n",
    "genenames = pd.read_csv('../CSF/RFiles/genenames.csv',header=None)"
   ]
  },
  {
   "cell_type": "code",
   "execution_count": 10,
   "metadata": {},
   "outputs": [],
   "source": [
    "from statsmodels.stats.multitest import multipletests"
   ]
  },
  {
   "cell_type": "code",
   "execution_count": 11,
   "metadata": {},
   "outputs": [
    {
     "name": "stderr",
     "output_type": "stream",
     "text": [
      "/data/yosef2/users/chenling/miniconda3/envs/pytorch_new/lib/python3.7/site-packages/ipykernel_launcher.py:11: RuntimeWarning: divide by zero encountered in log\n",
      "  # This is added back by InteractiveShellApp.init_path()\n"
     ]
    }
   ],
   "source": [
    "celltype = []\n",
    "combinedDEres = []\n",
    "for i,x in enumerate(celltypes[DEclust]):\n",
    "    temp  = pd.read_csv('../CSF/DE/wilcoxon/MannWhitneyU.CD4.allclusters.%s.csv'%x)\n",
    "    temp.index = list(genenames[0])\n",
    "    fdr_wil = multipletests(temp['pvalue'],method='fdr_bh')\n",
    "    temp = pd.concat([temp,DEres[i]],axis=1,sort=True)\n",
    "    temp = temp.sort_values(by='bayes1',ascending=False)\n",
    "    combined = deepcopy(temp[['stat','pvalue','bayes1','bayes2','mean1','mean2','nonz1','nonz2','clusters',]])\n",
    "    combined['scVI_logFC'] = np.log(temp['scale1']/temp['scale2'])\n",
    "    combined['norm_logFC'] = np.log(temp['norm_mean1']/temp['norm_mean2'])\n",
    "    temp  = pd.read_csv('../CSF/EdgeR/CD4.batch_corrected.%s.edgeR.csv'%x)\n",
    "    fdr_edgeR = multipletests(temp['PValue'],method='fdr_bh')\n",
    "    temp.index = list(genenames[0])\n",
    "    temp = temp[['logFC','logCPM','F','PValue']]\n",
    "    combined = pd.concat([combined,temp],axis=1,sort=True)\n",
    "    combined['fdr_wil'] = fdr_wil[1]\n",
    "    combined['fdr_edgeR'] = fdr_edgeR[1]\n",
    "    celltype.append(x)\n",
    "    combinedDEres.append(combined)\n",
    "\n",
    "    \n"
   ]
  },
  {
   "cell_type": "code",
   "execution_count": 14,
   "metadata": {},
   "outputs": [],
   "source": [
    "# from pandas import ExcelWriter\n",
    "# import xlsxwriter\n",
    "\n",
    "\n",
    "# writer = pd.ExcelWriter(save_path + 'DE/allclusters.CD4.xlsx', engine='xlsxwriter')\n",
    "# for i, x in enumerate(celltype):\n",
    "#     combinedDEres[i].to_excel(writer, sheet_name=str(x))\n",
    "# writer.close()\n"
   ]
  },
  {
   "cell_type": "code",
   "execution_count": 12,
   "metadata": {},
   "outputs": [],
   "source": [
    "filtered = [x.loc[(x['fdr_wil']<0.2)&(x['fdr_edgeR']<0.2)& \n",
    "                  (x['bayes1']>0.3) &\n",
    "                  (x['logFC']>0) & (x['norm_logFC']>0)] for x in combinedDEres]\n",
    "\n",
    "DEgenes = pd.concat(filtered)\n",
    "\n",
    "DEgenes['clusters'] = np.asarray(celltypes)[np.asarray(DEgenes['clusters']).astype(int)]\n",
    "DEgenes.to_csv(save_path+'DE/CD4markers.relaxed.csv')"
   ]
  },
  {
   "cell_type": "code",
   "execution_count": 16,
   "metadata": {},
   "outputs": [
    {
     "data": {
      "text/plain": [
       "12"
      ]
     },
     "execution_count": 16,
     "metadata": {},
     "output_type": "execute_result"
    }
   ],
   "source": [
    "len(filtered)"
   ]
  },
  {
   "cell_type": "code",
   "execution_count": 20,
   "metadata": {},
   "outputs": [
    {
     "data": {
      "text/html": [
       "<div>\n",
       "<style scoped>\n",
       "    .dataframe tbody tr th:only-of-type {\n",
       "        vertical-align: middle;\n",
       "    }\n",
       "\n",
       "    .dataframe tbody tr th {\n",
       "        vertical-align: top;\n",
       "    }\n",
       "\n",
       "    .dataframe thead th {\n",
       "        text-align: right;\n",
       "    }\n",
       "</style>\n",
       "<table border=\"1\" class=\"dataframe\">\n",
       "  <thead>\n",
       "    <tr style=\"text-align: right;\">\n",
       "      <th></th>\n",
       "      <th>stat</th>\n",
       "      <th>pvalue</th>\n",
       "      <th>bayes1</th>\n",
       "      <th>bayes2</th>\n",
       "      <th>mean1</th>\n",
       "      <th>mean2</th>\n",
       "      <th>nonz1</th>\n",
       "      <th>nonz2</th>\n",
       "      <th>clusters</th>\n",
       "      <th>scVI_logFC</th>\n",
       "      <th>norm_logFC</th>\n",
       "      <th>logFC</th>\n",
       "      <th>logCPM</th>\n",
       "      <th>F</th>\n",
       "      <th>PValue</th>\n",
       "      <th>fdr_wil</th>\n",
       "      <th>fdr_edgeR</th>\n",
       "    </tr>\n",
       "  </thead>\n",
       "  <tbody>\n",
       "    <tr>\n",
       "      <th>TNFRSF14</th>\n",
       "      <td>7004383.0</td>\n",
       "      <td>6.178923e-12</td>\n",
       "      <td>-0.927002</td>\n",
       "      <td>0.921648</td>\n",
       "      <td>0.178794</td>\n",
       "      <td>0.277818</td>\n",
       "      <td>0.162162</td>\n",
       "      <td>0.236395</td>\n",
       "      <td>10</td>\n",
       "      <td>-0.100004</td>\n",
       "      <td>-0.215803</td>\n",
       "      <td>-0.229936</td>\n",
       "      <td>9.442951</td>\n",
       "      <td>7.297386</td>\n",
       "      <td>1.641217e-02</td>\n",
       "      <td>4.111241e-51</td>\n",
       "      <td>0.212371</td>\n",
       "    </tr>\n",
       "    <tr>\n",
       "      <th>TIGIT</th>\n",
       "      <td>8889708.0</td>\n",
       "      <td>2.822103e-79</td>\n",
       "      <td>2.660324</td>\n",
       "      <td>-2.664606</td>\n",
       "      <td>0.286902</td>\n",
       "      <td>0.057789</td>\n",
       "      <td>0.205821</td>\n",
       "      <td>0.048571</td>\n",
       "      <td>10</td>\n",
       "      <td>0.947857</td>\n",
       "      <td>1.738618</td>\n",
       "      <td>1.341575</td>\n",
       "      <td>9.301205</td>\n",
       "      <td>751.397423</td>\n",
       "      <td>8.859154e-58</td>\n",
       "      <td>3.094868e-37</td>\n",
       "      <td>1.000000</td>\n",
       "    </tr>\n",
       "    <tr>\n",
       "      <th>PDCD1</th>\n",
       "      <td>8274260.0</td>\n",
       "      <td>1.744286e-50</td>\n",
       "      <td>0.338415</td>\n",
       "      <td>-0.335238</td>\n",
       "      <td>0.006237</td>\n",
       "      <td>0.017178</td>\n",
       "      <td>0.006237</td>\n",
       "      <td>0.016163</td>\n",
       "      <td>10</td>\n",
       "      <td>0.002758</td>\n",
       "      <td>-0.973237</td>\n",
       "      <td>-0.063399</td>\n",
       "      <td>9.269200</td>\n",
       "      <td>12.161986</td>\n",
       "      <td>2.346503e-01</td>\n",
       "      <td>7.187685e-33</td>\n",
       "      <td>0.597653</td>\n",
       "    </tr>\n",
       "    <tr>\n",
       "      <th>LAG3</th>\n",
       "      <td>8281963.0</td>\n",
       "      <td>8.358670e-51</td>\n",
       "      <td>0.590830</td>\n",
       "      <td>-0.586981</td>\n",
       "      <td>0.004158</td>\n",
       "      <td>0.013726</td>\n",
       "      <td>0.002079</td>\n",
       "      <td>0.012914</td>\n",
       "      <td>10</td>\n",
       "      <td>0.096698</td>\n",
       "      <td>-0.704830</td>\n",
       "      <td>-0.066514</td>\n",
       "      <td>9.266725</td>\n",
       "      <td>20.159916</td>\n",
       "      <td>1.655323e-01</td>\n",
       "      <td>3.849812e-53</td>\n",
       "      <td>0.981719</td>\n",
       "    </tr>\n",
       "    <tr>\n",
       "      <th>HAVCR2</th>\n",
       "      <td>8286444.0</td>\n",
       "      <td>5.442673e-51</td>\n",
       "      <td>-0.670532</td>\n",
       "      <td>0.673138</td>\n",
       "      <td>0.004158</td>\n",
       "      <td>0.014214</td>\n",
       "      <td>0.004158</td>\n",
       "      <td>0.013158</td>\n",
       "      <td>10</td>\n",
       "      <td>-0.162873</td>\n",
       "      <td>-0.953355</td>\n",
       "      <td>-0.060589</td>\n",
       "      <td>9.267020</td>\n",
       "      <td>17.054619</td>\n",
       "      <td>1.902414e-01</td>\n",
       "      <td>5.758623e-54</td>\n",
       "      <td>0.680546</td>\n",
       "    </tr>\n",
       "    <tr>\n",
       "      <th>ICOS</th>\n",
       "      <td>8131326.0</td>\n",
       "      <td>9.593016e-45</td>\n",
       "      <td>0.690773</td>\n",
       "      <td>-0.681445</td>\n",
       "      <td>0.051975</td>\n",
       "      <td>0.056327</td>\n",
       "      <td>0.051975</td>\n",
       "      <td>0.053119</td>\n",
       "      <td>10</td>\n",
       "      <td>0.140113</td>\n",
       "      <td>0.092362</td>\n",
       "      <td>0.063243</td>\n",
       "      <td>9.296964</td>\n",
       "      <td>1.463579</td>\n",
       "      <td>4.969950e-01</td>\n",
       "      <td>4.739911e-49</td>\n",
       "      <td>0.916396</td>\n",
       "    </tr>\n",
       "    <tr>\n",
       "      <th>CTLA4</th>\n",
       "      <td>8346279.0</td>\n",
       "      <td>1.637670e-53</td>\n",
       "      <td>1.350566</td>\n",
       "      <td>-1.345543</td>\n",
       "      <td>0.004158</td>\n",
       "      <td>0.007351</td>\n",
       "      <td>0.004158</td>\n",
       "      <td>0.006944</td>\n",
       "      <td>10</td>\n",
       "      <td>0.377319</td>\n",
       "      <td>-0.313706</td>\n",
       "      <td>-0.007172</td>\n",
       "      <td>9.262201</td>\n",
       "      <td>1.268082</td>\n",
       "      <td>7.826506e-01</td>\n",
       "      <td>4.615761e-02</td>\n",
       "      <td>0.007427</td>\n",
       "    </tr>\n",
       "    <tr>\n",
       "      <th>TNFRSF9</th>\n",
       "      <td>8363178.0</td>\n",
       "      <td>3.095619e-54</td>\n",
       "      <td>1.052157</td>\n",
       "      <td>-1.046373</td>\n",
       "      <td>0.008316</td>\n",
       "      <td>0.007513</td>\n",
       "      <td>0.008316</td>\n",
       "      <td>0.007391</td>\n",
       "      <td>10</td>\n",
       "      <td>0.191385</td>\n",
       "      <td>0.353570</td>\n",
       "      <td>0.025457</td>\n",
       "      <td>9.262354</td>\n",
       "      <td>4.856613</td>\n",
       "      <td>5.881740e-01</td>\n",
       "      <td>4.677154e-49</td>\n",
       "      <td>0.915627</td>\n",
       "    </tr>\n",
       "    <tr>\n",
       "      <th>LILRB4</th>\n",
       "      <td>8397259.0</td>\n",
       "      <td>1.038747e-55</td>\n",
       "      <td>0.893685</td>\n",
       "      <td>-0.899300</td>\n",
       "      <td>0.002079</td>\n",
       "      <td>0.001381</td>\n",
       "      <td>0.002079</td>\n",
       "      <td>0.001381</td>\n",
       "      <td>10</td>\n",
       "      <td>0.193852</td>\n",
       "      <td>0.392733</td>\n",
       "      <td>0.008721</td>\n",
       "      <td>9.257954</td>\n",
       "      <td>8.633532</td>\n",
       "      <td>6.902584e-01</td>\n",
       "      <td>6.908837e-42</td>\n",
       "      <td>0.924696</td>\n",
       "    </tr>\n",
       "  </tbody>\n",
       "</table>\n",
       "</div>"
      ],
      "text/plain": [
       "               stat        pvalue    bayes1    bayes2     mean1     mean2  \\\n",
       "TNFRSF14  7004383.0  6.178923e-12 -0.927002  0.921648  0.178794  0.277818   \n",
       "TIGIT     8889708.0  2.822103e-79  2.660324 -2.664606  0.286902  0.057789   \n",
       "PDCD1     8274260.0  1.744286e-50  0.338415 -0.335238  0.006237  0.017178   \n",
       "LAG3      8281963.0  8.358670e-51  0.590830 -0.586981  0.004158  0.013726   \n",
       "HAVCR2    8286444.0  5.442673e-51 -0.670532  0.673138  0.004158  0.014214   \n",
       "ICOS      8131326.0  9.593016e-45  0.690773 -0.681445  0.051975  0.056327   \n",
       "CTLA4     8346279.0  1.637670e-53  1.350566 -1.345543  0.004158  0.007351   \n",
       "TNFRSF9   8363178.0  3.095619e-54  1.052157 -1.046373  0.008316  0.007513   \n",
       "LILRB4    8397259.0  1.038747e-55  0.893685 -0.899300  0.002079  0.001381   \n",
       "\n",
       "             nonz1     nonz2  clusters  scVI_logFC  norm_logFC     logFC  \\\n",
       "TNFRSF14  0.162162  0.236395        10   -0.100004   -0.215803 -0.229936   \n",
       "TIGIT     0.205821  0.048571        10    0.947857    1.738618  1.341575   \n",
       "PDCD1     0.006237  0.016163        10    0.002758   -0.973237 -0.063399   \n",
       "LAG3      0.002079  0.012914        10    0.096698   -0.704830 -0.066514   \n",
       "HAVCR2    0.004158  0.013158        10   -0.162873   -0.953355 -0.060589   \n",
       "ICOS      0.051975  0.053119        10    0.140113    0.092362  0.063243   \n",
       "CTLA4     0.004158  0.006944        10    0.377319   -0.313706 -0.007172   \n",
       "TNFRSF9   0.008316  0.007391        10    0.191385    0.353570  0.025457   \n",
       "LILRB4    0.002079  0.001381        10    0.193852    0.392733  0.008721   \n",
       "\n",
       "            logCPM           F        PValue       fdr_wil  fdr_edgeR  \n",
       "TNFRSF14  9.442951    7.297386  1.641217e-02  4.111241e-51   0.212371  \n",
       "TIGIT     9.301205  751.397423  8.859154e-58  3.094868e-37   1.000000  \n",
       "PDCD1     9.269200   12.161986  2.346503e-01  7.187685e-33   0.597653  \n",
       "LAG3      9.266725   20.159916  1.655323e-01  3.849812e-53   0.981719  \n",
       "HAVCR2    9.267020   17.054619  1.902414e-01  5.758623e-54   0.680546  \n",
       "ICOS      9.296964    1.463579  4.969950e-01  4.739911e-49   0.916396  \n",
       "CTLA4     9.262201    1.268082  7.826506e-01  4.615761e-02   0.007427  \n",
       "TNFRSF9   9.262354    4.856613  5.881740e-01  4.677154e-49   0.915627  \n",
       "LILRB4    9.257954    8.633532  6.902584e-01  6.908837e-42   0.924696  "
      ]
     },
     "execution_count": 20,
     "metadata": {},
     "output_type": "execute_result"
    }
   ],
   "source": [
    "combinedDEres[10].loc[['TNFRSF14','TIGIT','PDCD1','LAG3','HAVCR2','ICOS','CTLA4','TNFRSF9','LILRB4']]"
   ]
  },
  {
   "cell_type": "code",
   "execution_count": 39,
   "metadata": {},
   "outputs": [],
   "source": [
    "filtered = [x.loc[(x['fdr_wil']<0.05)&(x['fdr_edgeR']<0.05)& \n",
    "                  (x['bayes1']>0.5) &\n",
    "                  (x['logFC']>0) & (x['norm_logFC']>0)] for x in combinedDEres]\n",
    "\n",
    "DEgenes = pd.concat(filtered)\n",
    "\n",
    "DEgenes['clusters'] = np.asarray(celltypes)[np.asarray(DEgenes['clusters']).astype(int)]\n",
    "DEgenes.to_csv(save_path+'DE/CD4markers.csv')"
   ]
  },
  {
   "cell_type": "code",
   "execution_count": 44,
   "metadata": {},
   "outputs": [
    {
     "data": {
      "text/plain": [
       "['CXCR3', 'CXCR4', 'CXCR5', 'CXCR6']"
      ]
     },
     "execution_count": 44,
     "metadata": {},
     "output_type": "execute_result"
    }
   ],
   "source": [
    "[x for x in combinedDEres[0].index if x.startswith('CXCR')]"
   ]
  },
  {
   "cell_type": "code",
   "execution_count": 47,
   "metadata": {},
   "outputs": [],
   "source": [
    "names,occ = np.unique(DEgenes.index,return_counts=True)"
   ]
  },
  {
   "cell_type": "code",
   "execution_count": 49,
   "metadata": {},
   "outputs": [
    {
     "data": {
      "text/plain": [
       "array(['CCDC65', 'CNBP', 'FAM45A', 'FBXW5', 'HIP1R', 'KIN', 'KLC1',\n",
       "       'LEO1', 'MAD2L1', 'PDHB', 'PIGA', 'PITPNB', 'PPP1CB', 'PSMD5',\n",
       "       'RMDN1', 'RPL7L1', 'RPS3', 'RUVBL1', 'SSR3', 'TRAP1', 'TXNDC15'],\n",
       "      dtype=object)"
      ]
     },
     "execution_count": 49,
     "metadata": {},
     "output_type": "execute_result"
    }
   ],
   "source": [
    "names[occ>3]"
   ]
  },
  {
   "cell_type": "code",
   "execution_count": null,
   "metadata": {},
   "outputs": [],
   "source": []
  }
 ],
 "metadata": {
  "kernelspec": {
   "display_name": "pytorch_new",
   "language": "python",
   "name": "pytorch_new"
  },
  "language_info": {
   "codemirror_mode": {
    "name": "ipython",
    "version": 3
   },
   "file_extension": ".py",
   "mimetype": "text/x-python",
   "name": "python",
   "nbconvert_exporter": "python",
   "pygments_lexer": "ipython3",
   "version": "3.7.2"
  }
 },
 "nbformat": 4,
 "nbformat_minor": 2
}
