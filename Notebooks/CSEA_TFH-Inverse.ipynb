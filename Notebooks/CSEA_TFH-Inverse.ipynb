{
 "cells": [
  {
   "cell_type": "code",
   "execution_count": 1,
   "metadata": {},
   "outputs": [
    {
     "data": {
      "text/plain": [
       "'/data/yosef2/users/chenling/scVI'"
      ]
     },
     "execution_count": 1,
     "metadata": {},
     "output_type": "execute_result"
    }
   ],
   "source": [
    "import os\n",
    "os.chdir(\"../../scVI/\")\n",
    "os.getcwd()"
   ]
  },
  {
   "cell_type": "code",
   "execution_count": 2,
   "metadata": {},
   "outputs": [],
   "source": [
    "import torch\n",
    "import pickle\n",
    "import seaborn as sns\n",
    "import numpy as np\n",
    "import pandas as pd\n",
    "from umap import UMAP\n",
    "from sklearn.cluster import SpectralClustering\n",
    "from scvi.inference import UnsupervisedTrainer\n",
    "from scvi.models import VAE\n",
    "save_path = '../CSF/Notebooks/'\n",
    "\n",
    "import matplotlib.pyplot as plt\n",
    "import matplotlib\n",
    "matplotlib.rcParams['pdf.fonttype'] = 42\n",
    "matplotlib.rcParams['ps.fonttype'] = 42\n",
    "%matplotlib inline"
   ]
  },
  {
   "cell_type": "code",
   "execution_count": 3,
   "metadata": {},
   "outputs": [],
   "source": [
    "from random import sample\n",
    "from numpy.random import permutation\n"
   ]
  },
  {
   "cell_type": "code",
   "execution_count": 4,
   "metadata": {},
   "outputs": [],
   "source": [
    "%matplotlib inline"
   ]
  },
  {
   "cell_type": "code",
   "execution_count": 5,
   "metadata": {},
   "outputs": [],
   "source": [
    "celllabels = np.load(save_path + 'meta/celllabels.npy')\n",
    "isCD4 = celllabels=='CD4'"
   ]
  },
  {
   "cell_type": "code",
   "execution_count": 6,
   "metadata": {},
   "outputs": [],
   "source": [
    "clusters = np.load(save_path + 'meta/CD4.clusters.npy')"
   ]
  },
  {
   "cell_type": "code",
   "execution_count": 7,
   "metadata": {},
   "outputs": [],
   "source": [
    "isMS = np.load(save_path+'meta/isMS.npy')[isCD4]\n",
    "isCSF = np.load(save_path+'meta/isCSF.npy')[isCD4]"
   ]
  },
  {
   "cell_type": "code",
   "execution_count": 8,
   "metadata": {},
   "outputs": [],
   "source": [
    "iscontrol = (isMS==False)"
   ]
  },
  {
   "cell_type": "code",
   "execution_count": 9,
   "metadata": {},
   "outputs": [],
   "source": [
    "def ES_fast(score, s , p, interval):\n",
    "    N = len(s)\n",
    "    N_H = np.sum(s==1)\n",
    "    m = 1/(N-N_H)\n",
    "    power = np.abs(score)**p \n",
    "    N_R = np.sum(power[s==1])\n",
    "    h = power / N_R\n",
    "    ES = [0]\n",
    "    hit = 0\n",
    "    miss = 0\n",
    "    for i in np.arange(0, (len(power)-interval),interval):\n",
    "        x = np.arange(i,i+interval,1)\n",
    "        si = s[x]\n",
    "        hit = hit + np.sum(h[x][si==1])\n",
    "        miss = miss + m*np.sum(si==0)\n",
    "        ES.append(hit-miss)\n",
    "    return(ES)"
   ]
  },
  {
   "cell_type": "code",
   "execution_count": 10,
   "metadata": {},
   "outputs": [],
   "source": [
    "VisionScore = pd.read_csv('../CSF/signatures/sigScore.csv')"
   ]
  },
  {
   "cell_type": "code",
   "execution_count": 30,
   "metadata": {},
   "outputs": [],
   "source": [
    "s = iscontrol[isCSF==True]\n",
    "score = np.asarray(VisionScore['TFH'])[isCSF==True]\n",
    "ranked = pd.DataFrame(np.asarray([s, score]).T,columns=['s','score'])\n",
    "ranked = ranked.sample(frac=1)\n",
    "ranked = ranked.sort_values(by='score',ascending=False)\n",
    "s = np.asarray(ranked['s'])\n",
    "score = np.asarray(ranked['score'])"
   ]
  },
  {
   "cell_type": "code",
   "execution_count": 31,
   "metadata": {},
   "outputs": [],
   "source": [
    "ES = ES_fast(score,s,1,1)"
   ]
  },
  {
   "cell_type": "code",
   "execution_count": 32,
   "metadata": {},
   "outputs": [
    {
     "data": {
      "text/plain": [
       "0.08877005310772013"
      ]
     },
     "execution_count": 32,
     "metadata": {},
     "output_type": "execute_result"
    }
   ],
   "source": [
    "np.max(ES)"
   ]
  },
  {
   "cell_type": "code",
   "execution_count": 13,
   "metadata": {},
   "outputs": [],
   "source": [
    "from random import sample"
   ]
  },
  {
   "cell_type": "code",
   "execution_count": 14,
   "metadata": {},
   "outputs": [],
   "source": [
    "control = [ES_fast(score,np.asarray(sample(list(s),len(s))),1,1) for i in range(100)]"
   ]
  },
  {
   "cell_type": "code",
   "execution_count": 15,
   "metadata": {},
   "outputs": [
    {
     "data": {
      "text/html": [
       "<div>\n",
       "<style scoped>\n",
       "    .dataframe tbody tr th:only-of-type {\n",
       "        vertical-align: middle;\n",
       "    }\n",
       "\n",
       "    .dataframe tbody tr th {\n",
       "        vertical-align: top;\n",
       "    }\n",
       "\n",
       "    .dataframe thead th {\n",
       "        text-align: right;\n",
       "    }\n",
       "</style>\n",
       "<table border=\"1\" class=\"dataframe\">\n",
       "  <thead>\n",
       "    <tr style=\"text-align: right;\">\n",
       "      <th></th>\n",
       "      <th>random0</th>\n",
       "      <th>random1</th>\n",
       "      <th>random2</th>\n",
       "      <th>random3</th>\n",
       "      <th>random4</th>\n",
       "      <th>random5</th>\n",
       "      <th>random6</th>\n",
       "      <th>random7</th>\n",
       "      <th>random8</th>\n",
       "      <th>random9</th>\n",
       "      <th>...</th>\n",
       "      <th>random990</th>\n",
       "      <th>random991</th>\n",
       "      <th>random992</th>\n",
       "      <th>random993</th>\n",
       "      <th>random994</th>\n",
       "      <th>random995</th>\n",
       "      <th>random996</th>\n",
       "      <th>random997</th>\n",
       "      <th>random998</th>\n",
       "      <th>random999</th>\n",
       "    </tr>\n",
       "  </thead>\n",
       "  <tbody>\n",
       "    <tr>\n",
       "      <th>0</th>\n",
       "      <td>-0.221594</td>\n",
       "      <td>-0.221594</td>\n",
       "      <td>-0.221594</td>\n",
       "      <td>-0.221594</td>\n",
       "      <td>-0.221594</td>\n",
       "      <td>-0.221594</td>\n",
       "      <td>-0.221594</td>\n",
       "      <td>-0.017873</td>\n",
       "      <td>-0.221594</td>\n",
       "      <td>-0.017873</td>\n",
       "      <td>...</td>\n",
       "      <td>-0.017873</td>\n",
       "      <td>-0.221594</td>\n",
       "      <td>-0.221594</td>\n",
       "      <td>-0.221594</td>\n",
       "      <td>-0.017873</td>\n",
       "      <td>-0.221594</td>\n",
       "      <td>-0.017873</td>\n",
       "      <td>-0.221594</td>\n",
       "      <td>-0.221594</td>\n",
       "      <td>-0.221594</td>\n",
       "    </tr>\n",
       "    <tr>\n",
       "      <th>1</th>\n",
       "      <td>-0.221594</td>\n",
       "      <td>-0.221594</td>\n",
       "      <td>-0.221594</td>\n",
       "      <td>-0.086295</td>\n",
       "      <td>-0.221594</td>\n",
       "      <td>-0.086295</td>\n",
       "      <td>-0.086295</td>\n",
       "      <td>-0.221594</td>\n",
       "      <td>-0.221594</td>\n",
       "      <td>-0.221594</td>\n",
       "      <td>...</td>\n",
       "      <td>-0.221594</td>\n",
       "      <td>-0.221594</td>\n",
       "      <td>-0.221594</td>\n",
       "      <td>-0.221594</td>\n",
       "      <td>-0.086295</td>\n",
       "      <td>-0.086295</td>\n",
       "      <td>-0.221594</td>\n",
       "      <td>-0.221594</td>\n",
       "      <td>-0.086295</td>\n",
       "      <td>-0.086295</td>\n",
       "    </tr>\n",
       "    <tr>\n",
       "      <th>2</th>\n",
       "      <td>-0.233791</td>\n",
       "      <td>-0.233791</td>\n",
       "      <td>-0.233791</td>\n",
       "      <td>-0.233791</td>\n",
       "      <td>-0.233791</td>\n",
       "      <td>-0.100345</td>\n",
       "      <td>-0.233791</td>\n",
       "      <td>0.134567</td>\n",
       "      <td>-0.100345</td>\n",
       "      <td>-0.233791</td>\n",
       "      <td>...</td>\n",
       "      <td>-0.233791</td>\n",
       "      <td>-0.100345</td>\n",
       "      <td>-0.100345</td>\n",
       "      <td>-0.233791</td>\n",
       "      <td>-0.233791</td>\n",
       "      <td>-0.100345</td>\n",
       "      <td>-0.233791</td>\n",
       "      <td>-0.100345</td>\n",
       "      <td>-0.100345</td>\n",
       "      <td>-0.233791</td>\n",
       "    </tr>\n",
       "    <tr>\n",
       "      <th>3</th>\n",
       "      <td>-0.258078</td>\n",
       "      <td>-0.258078</td>\n",
       "      <td>-0.161773</td>\n",
       "      <td>-0.065468</td>\n",
       "      <td>-0.258078</td>\n",
       "      <td>0.030837</td>\n",
       "      <td>-0.258078</td>\n",
       "      <td>-0.161773</td>\n",
       "      <td>-0.258078</td>\n",
       "      <td>-0.083054</td>\n",
       "      <td>...</td>\n",
       "      <td>0.030837</td>\n",
       "      <td>-0.161773</td>\n",
       "      <td>-0.258078</td>\n",
       "      <td>-0.258078</td>\n",
       "      <td>-0.065468</td>\n",
       "      <td>-0.258078</td>\n",
       "      <td>-0.161773</td>\n",
       "      <td>-0.258078</td>\n",
       "      <td>-0.065468</td>\n",
       "      <td>0.030837</td>\n",
       "    </tr>\n",
       "    <tr>\n",
       "      <th>4</th>\n",
       "      <td>-0.111112</td>\n",
       "      <td>-0.221855</td>\n",
       "      <td>-0.111112</td>\n",
       "      <td>-0.000370</td>\n",
       "      <td>-0.221855</td>\n",
       "      <td>-0.221855</td>\n",
       "      <td>-0.221855</td>\n",
       "      <td>-0.221855</td>\n",
       "      <td>-0.221855</td>\n",
       "      <td>-0.221855</td>\n",
       "      <td>...</td>\n",
       "      <td>-0.221855</td>\n",
       "      <td>-0.221855</td>\n",
       "      <td>-0.111112</td>\n",
       "      <td>-0.221855</td>\n",
       "      <td>-0.221855</td>\n",
       "      <td>-0.221855</td>\n",
       "      <td>-0.221855</td>\n",
       "      <td>-0.023499</td>\n",
       "      <td>-0.000370</td>\n",
       "      <td>-0.023499</td>\n",
       "    </tr>\n",
       "    <tr>\n",
       "      <th>5</th>\n",
       "      <td>-0.225346</td>\n",
       "      <td>-0.049978</td>\n",
       "      <td>-0.225346</td>\n",
       "      <td>0.125390</td>\n",
       "      <td>0.125390</td>\n",
       "      <td>-0.225346</td>\n",
       "      <td>-0.049978</td>\n",
       "      <td>-0.225346</td>\n",
       "      <td>-0.049978</td>\n",
       "      <td>0.125390</td>\n",
       "      <td>...</td>\n",
       "      <td>-0.225346</td>\n",
       "      <td>-0.049978</td>\n",
       "      <td>-0.225346</td>\n",
       "      <td>-0.225346</td>\n",
       "      <td>0.125390</td>\n",
       "      <td>-0.049978</td>\n",
       "      <td>-0.225346</td>\n",
       "      <td>-0.049978</td>\n",
       "      <td>-0.049978</td>\n",
       "      <td>-0.225346</td>\n",
       "    </tr>\n",
       "  </tbody>\n",
       "</table>\n",
       "<p>6 rows × 1000 columns</p>\n",
       "</div>"
      ],
      "text/plain": [
       "    random0   random1   random2   random3   random4   random5   random6  \\\n",
       "0 -0.221594 -0.221594 -0.221594 -0.221594 -0.221594 -0.221594 -0.221594   \n",
       "1 -0.221594 -0.221594 -0.221594 -0.086295 -0.221594 -0.086295 -0.086295   \n",
       "2 -0.233791 -0.233791 -0.233791 -0.233791 -0.233791 -0.100345 -0.233791   \n",
       "3 -0.258078 -0.258078 -0.161773 -0.065468 -0.258078  0.030837 -0.258078   \n",
       "4 -0.111112 -0.221855 -0.111112 -0.000370 -0.221855 -0.221855 -0.221855   \n",
       "5 -0.225346 -0.049978 -0.225346  0.125390  0.125390 -0.225346 -0.049978   \n",
       "\n",
       "    random7   random8   random9  ...  random990  random991  random992  \\\n",
       "0 -0.017873 -0.221594 -0.017873  ...  -0.017873  -0.221594  -0.221594   \n",
       "1 -0.221594 -0.221594 -0.221594  ...  -0.221594  -0.221594  -0.221594   \n",
       "2  0.134567 -0.100345 -0.233791  ...  -0.233791  -0.100345  -0.100345   \n",
       "3 -0.161773 -0.258078 -0.083054  ...   0.030837  -0.161773  -0.258078   \n",
       "4 -0.221855 -0.221855 -0.221855  ...  -0.221855  -0.221855  -0.111112   \n",
       "5 -0.225346 -0.049978  0.125390  ...  -0.225346  -0.049978  -0.225346   \n",
       "\n",
       "   random993  random994  random995  random996  random997  random998  random999  \n",
       "0  -0.221594  -0.017873  -0.221594  -0.017873  -0.221594  -0.221594  -0.221594  \n",
       "1  -0.221594  -0.086295  -0.086295  -0.221594  -0.221594  -0.086295  -0.086295  \n",
       "2  -0.233791  -0.233791  -0.100345  -0.233791  -0.100345  -0.100345  -0.233791  \n",
       "3  -0.258078  -0.065468  -0.258078  -0.161773  -0.258078  -0.065468   0.030837  \n",
       "4  -0.221855  -0.221855  -0.221855  -0.221855  -0.023499  -0.000370  -0.023499  \n",
       "5  -0.225346   0.125390  -0.049978  -0.225346  -0.049978  -0.049978  -0.225346  \n",
       "\n",
       "[6 rows x 1000 columns]"
      ]
     },
     "execution_count": 15,
     "metadata": {},
     "output_type": "execute_result"
    }
   ],
   "source": [
    "control_score = pd.read_csv('../CSF/signatures/sigScore.TFH.matched.csv')\n",
    "control_score = control_score.loc[isCSF==True]\n",
    "control_score = control_score[control_score.columns[1:]]\n",
    "control_score.loc[:5]"
   ]
  },
  {
   "cell_type": "code",
   "execution_count": 16,
   "metadata": {},
   "outputs": [],
   "source": [
    "control2 = []\n",
    "for x in control_score.columns:\n",
    "    score = control_score[x]\n",
    "    ranked = pd.DataFrame(np.asarray([s, score]).T,columns=['s','score'])\n",
    "    ranked = ranked.sample(frac=1)\n",
    "    ranked = ranked.sort_values(by='score',ascending=False)\n",
    "    s = np.asarray(ranked['s'])\n",
    "    score = np.asarray(ranked['score'])\n",
    "    control2.append(ES_fast(score,s,1,1))"
   ]
  },
  {
   "cell_type": "code",
   "execution_count": 17,
   "metadata": {},
   "outputs": [
    {
     "data": {
      "image/png": "[encoded data removed]",
      "text/plain": [
       "<Figure size 432x288 with 1 Axes>"
      ]
     },
     "metadata": {
      "needs_background": "light"
     },
     "output_type": "display_data"
    }
   ],
   "source": [
    "plt.plot(np.arange(len(ES)),ES,'r-')\n",
    "for i in range(100):\n",
    "    plt.plot(np.arange(len(ES)),control2[i],'b-',alpha=0.1)\n",
    "\n",
    "\n",
    "plt.axvline(x=np.argmax(ES),color='black')\n",
    "# plt.title(\"Diseased Cell Set\")\n",
    "plt.xlabel(\"Rank in Ordered Dataset\")\n",
    "plt.ylabel(\"Enrichment Score (ES)\")\n",
    "plt.savefig(save_path+'figures/SupFigure8/ES.MSinCSF.TFH.inverse.pdf')"
   ]
  },
  {
   "cell_type": "code",
   "execution_count": 18,
   "metadata": {},
   "outputs": [],
   "source": [
    "with open(save_path + 'CSEA/TFH.MSinCSF.pkl', 'wb') as f:\n",
    "    pickle.dump((ES,control2), f)\n"
   ]
  },
  {
   "cell_type": "markdown",
   "metadata": {},
   "source": [
    "### Pvalue"
   ]
  },
  {
   "cell_type": "code",
   "execution_count": 19,
   "metadata": {},
   "outputs": [
    {
     "data": {
      "text/plain": [
       "0.0"
      ]
     },
     "execution_count": 19,
     "metadata": {},
     "output_type": "execute_result"
    }
   ],
   "source": [
    "np.mean(np.asarray([np.max(x) for x in control2[1:]]) > np.max(ES))"
   ]
  },
  {
   "cell_type": "markdown",
   "metadata": {},
   "source": [
    "### Leading Edge"
   ]
  },
  {
   "cell_type": "code",
   "execution_count": 20,
   "metadata": {},
   "outputs": [
    {
     "data": {
      "text/plain": [
       "8042"
      ]
     },
     "execution_count": 20,
     "metadata": {},
     "output_type": "execute_result"
    }
   ],
   "source": [
    "np.argmax(ES)"
   ]
  },
  {
   "cell_type": "markdown",
   "metadata": {},
   "source": [
    "# in blood"
   ]
  },
  {
   "cell_type": "code",
   "execution_count": 34,
   "metadata": {},
   "outputs": [],
   "source": [
    "s = iscontrol[isCSF==False]\n",
    "score = np.asarray(VisionScore['TFH'])[isCSF==False]\n",
    "ranked = pd.DataFrame(np.asarray([s, score]).T,columns=['s','score'])\n",
    "ranked = ranked.sample(frac=1)\n",
    "ranked = ranked.sort_values(by='score',ascending=False)\n",
    "s = np.asarray(ranked['s'])\n",
    "score = np.asarray(ranked['score'])"
   ]
  },
  {
   "cell_type": "code",
   "execution_count": 35,
   "metadata": {},
   "outputs": [],
   "source": [
    "ES = ES_fast(score,s,1,1)"
   ]
  },
  {
   "cell_type": "code",
   "execution_count": 36,
   "metadata": {},
   "outputs": [
    {
     "data": {
      "text/plain": [
       "0.30804231461942705"
      ]
     },
     "execution_count": 36,
     "metadata": {},
     "output_type": "execute_result"
    }
   ],
   "source": [
    "np.max(ES)"
   ]
  },
  {
   "cell_type": "code",
   "execution_count": 23,
   "metadata": {},
   "outputs": [],
   "source": [
    "from random import sample"
   ]
  },
  {
   "cell_type": "code",
   "execution_count": 24,
   "metadata": {},
   "outputs": [],
   "source": [
    "control = [ES_fast(score,np.asarray(sample(list(s),len(s))),1,1) for i in range(100)]"
   ]
  },
  {
   "cell_type": "code",
   "execution_count": 25,
   "metadata": {},
   "outputs": [],
   "source": [
    "control_score = pd.read_csv('../CSF/signatures/sigScore.TFH.matched.csv')\n",
    "control_score = control_score.loc[isCSF==False]\n",
    "control_score = control_score[control_score.columns[1:]]"
   ]
  },
  {
   "cell_type": "code",
   "execution_count": 26,
   "metadata": {},
   "outputs": [],
   "source": [
    "control2 = []\n",
    "for x in control_score.columns:\n",
    "    score = control_score[x]\n",
    "    ranked = pd.DataFrame(np.asarray([s, score]).T,columns=['s','score'])\n",
    "    ranked = ranked.sample(frac=1)\n",
    "    ranked = ranked.sort_values(by='score',ascending=False)\n",
    "    s = np.asarray(ranked['s'])\n",
    "    score = np.asarray(ranked['score'])\n",
    "    control2.append(ES_fast(score,s,1,1))"
   ]
  },
  {
   "cell_type": "code",
   "execution_count": 27,
   "metadata": {},
   "outputs": [
    {
     "data": {
      "image/png": "[encoded data removed]",
      "text/plain": [
       "<Figure size 432x288 with 1 Axes>"
      ]
     },
     "metadata": {
      "needs_background": "light"
     },
     "output_type": "display_data"
    }
   ],
   "source": [
    "plt.plot(np.arange(len(ES)),ES,'r-')\n",
    "for i in range(100):\n",
    "    plt.plot(np.arange(len(ES)),control2[i],'b-',alpha=0.1)\n",
    "\n",
    "plt.axvline(x=np.argmax(ES),color='black')\n",
    "# plt.title(\"Diseased Cell Set\")\n",
    "plt.xlabel(\"Rank in Ordered Dataset\")\n",
    "plt.ylabel(\"Enrichment Score (ES)\")\n",
    "plt.savefig(save_path+'figures/SupFigure8/ES.MSinPBMC.TFH.inverse.pdf')"
   ]
  },
  {
   "cell_type": "markdown",
   "metadata": {},
   "source": [
    "# Significance value \n",
    "0.889 in blood\n",
    "0.002 in CSF"
   ]
  },
  {
   "cell_type": "code",
   "execution_count": 28,
   "metadata": {},
   "outputs": [
    {
     "data": {
      "text/plain": [
       "0.0"
      ]
     },
     "execution_count": 28,
     "metadata": {},
     "output_type": "execute_result"
    }
   ],
   "source": [
    "np.mean(np.asarray([np.max(x) for x in control2]) > np.max(ES))"
   ]
  },
  {
   "cell_type": "markdown",
   "metadata": {},
   "source": [
    "### Leading Edge"
   ]
  },
  {
   "cell_type": "code",
   "execution_count": 29,
   "metadata": {},
   "outputs": [
    {
     "data": {
      "text/plain": [
       "7819"
      ]
     },
     "execution_count": 29,
     "metadata": {},
     "output_type": "execute_result"
    }
   ],
   "source": [
    "np.argmax(ES)"
   ]
  }
 ],
 "metadata": {
  "kernelspec": {
   "display_name": "pytorch",
   "language": "python",
   "name": "pytorch"
  },
  "language_info": {
   "codemirror_mode": {
    "name": "ipython",
    "version": 3
   },
   "file_extension": ".py",
   "mimetype": "text/x-python",
   "name": "python",
   "nbconvert_exporter": "python",
   "pygments_lexer": "ipython3",
   "version": "3.7.2"
  }
 },
 "nbformat": 4,
 "nbformat_minor": 2
}
