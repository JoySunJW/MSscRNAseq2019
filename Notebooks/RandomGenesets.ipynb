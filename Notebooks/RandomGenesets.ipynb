{
 "cells": [
  {
   "cell_type": "code",
   "execution_count": 1,
   "metadata": {},
   "outputs": [],
   "source": [
    "from utils import * \n",
    "\n",
    "import os\n",
    "os.chdir(\"../../scVI/\")\n",
    "os.getcwd()\n",
    "\n",
    "import pickle\n",
    "import numpy as np\n",
    "import pandas as pd\n",
    "\n",
    "import torch\n",
    "\n",
    "from umap import UMAP"
   ]
  },
  {
   "cell_type": "code",
   "execution_count": 26,
   "metadata": {},
   "outputs": [],
   "source": [
    "with open('../CSF/signatures/allsigs.txt') as f:\n",
    "    geneset = f.readlines()\n",
    "\n",
    "setname=[]\n",
    "setorig=[]\n",
    "genes = []\n",
    "for x in geneset:\n",
    "    x = x.rstrip()\n",
    "    line = x.split('\\t')\n",
    "    if len(line)>1:\n",
    "        setname.append(line[0])\n",
    "        setorig.append(line[1])\n",
    "        genes.append(line[2:])\n",
    "    "
   ]
  },
  {
   "cell_type": "code",
   "execution_count": 27,
   "metadata": {},
   "outputs": [],
   "source": [
    "names,occ=np.unique(setname,return_counts=True)"
   ]
  },
  {
   "cell_type": "code",
   "execution_count": 28,
   "metadata": {},
   "outputs": [],
   "source": [
    "with open('../CSF/Notebooks/' + 'dataset/all_datasets.pkl', 'rb') as f:\n",
    "    gene_dataset = pickle.load(f)\n",
    "\n",
    "scaling_factor = gene_dataset.X.mean(axis=1)\n",
    "norm_X = gene_dataset.X/scaling_factor.reshape(len(scaling_factor), 1)"
   ]
  },
  {
   "cell_type": "code",
   "execution_count": 31,
   "metadata": {},
   "outputs": [],
   "source": [
    "def matchedlist(norm_X, genelist, genenames,ngenes):\n",
    "    mean_exprs = np.asarray(norm_X[:,:].mean(axis=0)).ravel()\n",
    "    plt.hist(np.log10(1+mean_exprs))\n",
    "    matched=[]\n",
    "    for x in genelist:\n",
    "        if x in genenames:\n",
    "            exprs = np.mean(norm_X[:,genenames==x])\n",
    "            plt.axvline(np.log10(1+exprs),color='r')\n",
    "            diff = np.abs(mean_exprs - exprs)\n",
    "            idx = np.argsort(np.argsort(diff))\n",
    "            idx = np.where(idx<=ngenes)[0]\n",
    "            res = genenames[idx]\n",
    "            res = res[res!=x]\n",
    "            matched.append(res)\n",
    "            exprs = np.mean(norm_X[:,idx])\n",
    "            plt.axvline(np.log10(1+exprs),color='b')\n",
    "    return matched\n"
   ]
  },
  {
   "cell_type": "markdown",
   "metadata": {},
   "source": [
    "# print same length gene list for all signatures"
   ]
  },
  {
   "cell_type": "code",
   "execution_count": 29,
   "metadata": {},
   "outputs": [],
   "source": [
    "from random import sample"
   ]
  },
  {
   "cell_type": "code",
   "execution_count": 32,
   "metadata": {},
   "outputs": [
    {
     "data": {
      "image/png": "[encoded data removed]",
      "text/plain": [
       "<Figure size 432x288 with 1 Axes>"
      ]
     },
     "metadata": {
      "needs_background": "light"
     },
     "output_type": "display_data"
    }
   ],
   "source": [
    "control = []\n",
    "for x in genes:\n",
    "    res = []\n",
    "    matched = matchedlist(norm_X,x,gene_dataset.gene_names,20)\n",
    "    for rep in range(100):\n",
    "        res.append(np.asarray([sample(list(x),1) for x in matched]).ravel())\n",
    "    control.append(res)"
   ]
  },
  {
   "cell_type": "code",
   "execution_count": 34,
   "metadata": {},
   "outputs": [],
   "source": [
    "with open('../CSF/signatures/randomsigs.rep100.txt','a') as f:\n",
    "    for i,x in enumerate(control):\n",
    "        for j,y in enumerate(x):\n",
    "            f.write('set%irep%i\\trep%i\\t'%(i,j,j)+'\\t'.join(y) + '\\n')\n"
   ]
  },
  {
   "cell_type": "markdown",
   "metadata": {},
   "source": [
    "# sample expression matched signatures for TFH"
   ]
  },
  {
   "cell_type": "code",
   "execution_count": 83,
   "metadata": {},
   "outputs": [
    {
     "data": {
      "text/plain": [
       "['ASCL2, BCL6, CXCR5, PDCD1, ICOS, IL21, IL21R, CCR6, CXCR3',\n",
       " 'BCL6, CXCR5, PDCD1, ICOS, IL21R, CD40LG, SH2D1A, TIGIT, ASCL2',\n",
       " 'BCL6, CXCR5, PDCD1, ICOS, IL21, IL21R, CD40LG, SH2D1A, TIGIT, ASCL2, MAF, STAT3, BATF, IRF4, BTLA']"
      ]
     },
     "execution_count": 83,
     "metadata": {},
     "output_type": "execute_result"
    }
   ],
   "source": [
    "[', '.join(genes[i]) for i,x in enumerate(setname) if x.startswith('TFH')]"
   ]
  },
  {
   "cell_type": "code",
   "execution_count": 84,
   "metadata": {},
   "outputs": [
    {
     "data": {
      "image/png": "[encoded data removed]",
      "text/plain": [
       "<Figure size 432x288 with 1 Axes>"
      ]
     },
     "metadata": {
      "needs_background": "light"
     },
     "output_type": "display_data"
    }
   ],
   "source": [
    "matched = matchedlist(norm_X,['BCL6', 'CXCR5', 'PDCD1', 'ICOS', 'IL21R', 'CD40LG', 'SH2D1A', 'TIGIT', 'ASCL2'],\n",
    "           gene_dataset.gene_names,20)"
   ]
  },
  {
   "cell_type": "code",
   "execution_count": 85,
   "metadata": {},
   "outputs": [],
   "source": [
    "control = []\n",
    "for i in range(1000):\n",
    "    control.append(np.asarray([sample(list(x),1) for x in matched]).ravel())"
   ]
  },
  {
   "cell_type": "code",
   "execution_count": 86,
   "metadata": {},
   "outputs": [],
   "source": [
    "with open('../CSF/signatures/TFH.matched.txt','a') as f:\n",
    "    for i,x in enumerate(control):\n",
    "        f.write('random%i\\trandom%i\\t'%(i,i)+'\\t'.join(list(x)) + '\\n')\n"
   ]
  },
  {
   "cell_type": "markdown",
   "metadata": {},
   "source": [
    "# sample expression matched signatures for TH1"
   ]
  },
  {
   "cell_type": "code",
   "execution_count": 10,
   "metadata": {},
   "outputs": [
    {
     "name": "stdout",
     "output_type": "stream",
     "text": [
      "Th17\n",
      "AHR, BATF, CCR6, CXCR3, EGR1, EGR2, ETV6, GPR65, HIF1A, IL17A, IL17F, IL1R1, IL1RN, IL21, IL22, IL23R, IL6R, IL6ST, IRF4, MAF, PML, POU2AF1, PROCR, RBPJ, RORA, RORC, RUNX1, RUNX3, SGK1, SOCS3, STAT3, TSC22D3\n",
      "Th17\n",
      "IL22, IL17F, IL17A, STAT3, CCR6, CSF2, BATF, IL23R, IL1R1, MINA, IL21, RORC, SMARCA4, IL12RB1, CCL20, SOCS3\n",
      "Th1\n",
      "CXCR3, ZBTB32, IL18RAP, CCR5, IL18R1, IFNG, IL12RB2, IL27RA, STAT1, STAT4, TBX21\n"
     ]
    }
   ],
   "source": [
    "for i,x in enumerate(setname):\n",
    "    if x.startswith('Th1'):\n",
    "        print(x)\n",
    "        print(', '.join(genes[i]))"
   ]
  },
  {
   "cell_type": "code",
   "execution_count": 11,
   "metadata": {},
   "outputs": [
    {
     "data": {
      "image/png": "[encoded data removed]",
      "text/plain": [
       "<Figure size 432x288 with 1 Axes>"
      ]
     },
     "metadata": {
      "needs_background": "light"
     },
     "output_type": "display_data"
    }
   ],
   "source": [
    "matched = matchedlist(norm_X,\n",
    "                      ['CXCR3', 'ZBTB32', 'IL18RAP', 'CCR5', 'IL18R1', 'IFNG', 'IL12RB2', 'IL27RA', 'STAT1', 'STAT4', 'TBX21'],\n",
    "                      gene_dataset.gene_names,20)\n"
   ]
  },
  {
   "cell_type": "code",
   "execution_count": 12,
   "metadata": {},
   "outputs": [],
   "source": [
    "control = []\n",
    "for i in range(1000):\n",
    "    control.append(np.asarray([sample(list(x),1) for x in matched]).ravel())"
   ]
  },
  {
   "cell_type": "code",
   "execution_count": 13,
   "metadata": {},
   "outputs": [],
   "source": [
    "with open('../CSF/signatures/Th1.matched.txt','a') as f:\n",
    "    for i,x in enumerate(control):\n",
    "        f.write('random%i\\trandom%i\\t'%(i,i)+'\\t'.join(list(x)) + '\\n')\n"
   ]
  },
  {
   "cell_type": "code",
   "execution_count": null,
   "metadata": {},
   "outputs": [],
   "source": []
  }
 ],
 "metadata": {
  "kernelspec": {
   "display_name": "pytorch",
   "language": "python",
   "name": "pytorch"
  },
  "language_info": {
   "codemirror_mode": {
    "name": "ipython",
    "version": 3
   },
   "file_extension": ".py",
   "mimetype": "text/x-python",
   "name": "python",
   "nbconvert_exporter": "python",
   "pygments_lexer": "ipython3",
   "version": "3.7.2"
  }
 },
 "nbformat": 4,
 "nbformat_minor": 2
}
